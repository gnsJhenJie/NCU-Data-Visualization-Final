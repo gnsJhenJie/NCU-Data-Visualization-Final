{
  "cells": [
    {
      "cell_type": "markdown",
      "metadata": {
        "id": "jri-7jP2y0gw"
      },
      "source": [
        "記得要先把資料集上傳到Colab才能正常執行!"
      ]
    },
    {
      "cell_type": "markdown",
      "metadata": {},
      "source": [
        "## 1. 原始資料"
      ]
    },
    {
      "cell_type": "markdown",
      "metadata": {},
      "source": [
        "### 1.1 載入資料"
      ]
    },
    {
      "cell_type": "code",
      "execution_count": 1,
      "metadata": {
        "colab": {
          "base_uri": "https://localhost:8080/",
          "height": 782
        },
        "id": "0Sirldf0qqLu",
        "outputId": "377e44e2-1a47-4231-9a73-da0e682ee8aa"
      },
      "outputs": [],
      "source": [
        "import pandas as pd\n",
        "data = pd.read_csv('dataset/join_database_w_definitions.csv',skiprows=3) #載入資料並省略前三列標頭"
      ]
    },
    {
      "cell_type": "markdown",
      "metadata": {},
      "source": [
        "### 1.2 觀察所有的資料欄位"
      ]
    },
    {
      "cell_type": "code",
      "execution_count": 2,
      "metadata": {
        "colab": {
          "base_uri": "https://localhost:8080/"
        },
        "id": "sxJMhmuztVvc",
        "outputId": "5bf502d3-b9c6-4bfb-c919-744ede2476e3"
      },
      "outputs": [
        {
          "data": {
            "text/plain": "array(['Country Name', 'Country Code', 'Region Code', 'Subsample',\n       'Income Level Name', 'Income Level Code', 'Year of survey',\n       'Survey Data Source', 'Survey Type', 'Total population',\n       'Children, aged 0-14', 'Youth, aged 15-24', 'Adult, aged 25-64',\n       'Elderly, aged 65+', 'Urban Population (% of total Population)',\n       ' Working Age Population, aged 15-64 (% of total Pop.)',\n       'Dependency Rate, all compared to 15-64',\n       'Youth Dependency Rate, younger than 15 compared to 15-64',\n       'Old Age Dependency Rate, older than 64 compared to 15-64',\n       'Labor Force, aged 15-64',\n       'Labor Force Participation Rate, aged 15-64',\n       'Female Labor Force Participation Rate, aged 15-64',\n       'Not in labor force or education rate among youth, aged 15-24',\n       'Share of workers (aged 15-64) with more than one jobs in last week',\n       'Employment to Population Ratio, aged 15-64',\n       'Employment Rate, aged 15-64 ', 'Unemployment Rate, aged 15-64',\n       'Youth Employment Rate, aged 15-24',\n       'Youth Unemployment Rate, aged 15-24',\n       'Wage employees, aged 15-64 ', 'Self-employed, aged 15-64',\n       'Unpaid, aged 15-64', 'Employers, aged 15-64',\n       'Unpaid or Self-employed, age 15-64',\n       'Share of informal jobs, aged 15-64', 'Share of work contract',\n       'Share of health insurance', 'Share of social security',\n       'Public sector employment, aged 15-64', ' Agriculture, aged 15-64',\n       ' Industry, aged 15-64', ' Services, aged 15-64',\n       'Mining, aged 15-64', 'Manufacturing, aged 15-64',\n       'Electricity and utilities, aged 15-64',\n       'Construction, aged 15-64', 'Commerce, aged 15-64',\n       'Transport & Communication, aged 15-64',\n       'Financial and Business Services, aged 15-64',\n       'Public Administration, aged 15-64', 'Other services, aged 15-64',\n       ' Female in non-agricultural employment, aged 15-64',\n       'Youth in non-agricultural employment, aged 15-64',\n       'Non-Agricultural wage employment, aged 15-64',\n       'Non-Agricultural unpaid employment, aged 15-64',\n       'Non-Agricultural employer, aged 15-64',\n       'Non-Agricultural self-employed, aged 15-64',\n       'Youth Non-Agricultural wage employment, aged 15-24',\n       'Wage employment in agriculture, aged 15-64',\n       'Wage employment in industry, aged 15-64',\n       'Wage employment in services, aged 15-64',\n       ' Senior Officials, aged 15-64', ' Professionals, aged 15-64',\n       ' Technicians, aged 15-64', ' Clerks, aged 15-64',\n       ' Service and Market Sales, aged 15-64',\n       ' Skilled Agriculture, aged 15-64', ' Craft Workers, aged 15-64',\n       ' Machine Operators, aged 15-64',\n       ' Elementary Occupations, aged 15-64', ' Armed Forces',\n       'Average weekly working hours',\n       'Underemployment, <35 hours per week',\n       'Excessive working hours,>48 hours per week',\n       'Median Earnings for wage workers per hour, local nominal currency',\n       'Median Earnings for wage workers per month, local nominal currency',\n       'Median Earnings for wage workers per month in agriculture, local nominal currenc',\n       'Median Earnings for wage workers per month in industry, local nominal currency',\n       'Median Earnings for wage workers per month in service, local nominal currency',\n       'Median Earnings for wage workers per hour,  deflated to 2011 local currency valu',\n       'Real Median Hourly  Wages in USD (base 2011), PPP adjusted',\n       'Median Earnings for wage workers per month, deflated to 2011 local currency valu',\n       'Real Median Monthly Wages in USD (base 2011), PPP adjusted',\n       'Female to Male gender wage gap, calculated with median wages',\n       'Public to Private wage gap, calculated with median wages',\n       ' No Education', ' Primary Education', ' Secondary Education',\n       ' Post Secondary Education',\n       'Mean number of years of education completed, aged 17 and older',\n       'Enrollment rate for individuals aged 6-16', 'Individual age',\n       'Mean age of worker between 15-64',\n       'Mean age of worker in agriculture, between 15-64',\n       'Mean age of worker in industry, between 15-64',\n       'Mean age of worker in services, between 15-64',\n       'Mean age of wage worker, between 15-64',\n       'Mean age of self-employed or unpaid worker, between 15-64',\n       'Mean age of employer, between 15-64', 'Total flags in survey',\n       'Percentile (100 = max), total flags',\n       'Flags over max number of flags',\n       'Percentile (100 = max), share of flags', 'Unnamed: 103',\n       'Unnamed: 104', 'Unnamed: 105', 'Unnamed: 106', 'Unnamed: 107',\n       'Unnamed: 108', 'Unnamed: 109', 'Unnamed: 110', 'Unnamed: 111',\n       'Unnamed: 112', 'Unnamed: 113', 'Unnamed: 114', 'Unnamed: 115',\n       'Unnamed: 116', 'Unnamed: 117', 'Unnamed: 118', 'Unnamed: 119',\n       'Unnamed: 120', 'Unnamed: 121', 'Unnamed: 122', 'Unnamed: 123',\n       'Unnamed: 124', 'Unnamed: 125', 'Unnamed: 126', 'Unnamed: 127',\n       'Unnamed: 128', 'Unnamed: 129'], dtype=object)"
          },
          "execution_count": 2,
          "metadata": {},
          "output_type": "execute_result"
        }
      ],
      "source": [
        "data.columns.values #所有column的名稱"
      ]
    },
    {
      "cell_type": "markdown",
      "metadata": {},
      "source": [
        "### 1.3 移除多餘的欄位 (Unnamed開頭)"
      ]
    },
    {
      "cell_type": "code",
      "execution_count": 3,
      "metadata": {
        "id": "rtS1ZtN_tizJ"
      },
      "outputs": [],
      "source": [
        "for column_name in data.columns.values: #移除不必要的column\n",
        "  if(column_name.startswith('Unnamed:')):\n",
        "    data.drop(column_name,axis=1,inplace=True)"
      ]
    },
    {
      "cell_type": "markdown",
      "metadata": {},
      "source": [
        "### 1.4 原始資料的各種取樣資料量"
      ]
    },
    {
      "cell_type": "code",
      "execution_count": 4,
      "metadata": {
        "colab": {
          "base_uri": "https://localhost:8080/"
        },
        "id": "_epeLOqUvCQj",
        "outputId": "53319ed5-ab73-4e87-c614-4834ae0a4fee"
      },
      "outputs": [
        {
          "data": {
            "text/plain": "Subsample\nAll               1790\nFemale            1671\nHigh Education    1573\nLow Education     1619\nMale              1671\nOld               1669\nRural             1467\nUrban             1499\nYoung             1669\ndtype: int64"
          },
          "execution_count": 4,
          "metadata": {},
          "output_type": "execute_result"
        }
      ],
      "source": [
        "data.groupby('Subsample').size() #各種取樣的資料量分布"
      ]
    },
    {
      "cell_type": "markdown",
      "metadata": {},
      "source": [
        "## 2. 整理出不同抽樣樣本的資料"
      ]
    },
    {
      "cell_type": "markdown",
      "metadata": {},
      "source": [
        "### 2.1 根據Subsample欄位，整理成4種資料 (全部、性別、地區、教育程度)"
      ]
    },
    {
      "cell_type": "code",
      "execution_count": 5,
      "metadata": {
        "id": "L_OFcsoaxA55"
      },
      "outputs": [],
      "source": [
        "#僅保留全部取樣的資料\n",
        "data_all = data[data['Subsample']==\"All\"].copy(deep=True) \n",
        "data_all.to_csv('dataset/join_database_all.csv')\n",
        "#依照性別(男性、女性)取樣\n",
        "data_F = data[data['Subsample']==\"Female\"].copy(deep=True) #僅保留女性取樣的資料\n",
        "data_M = data[data['Subsample']==\"Male\"].copy(deep=True) #僅保留男性取樣的資料\n",
        "data_Gender = pd.concat([data_F,data_M])\n",
        "data_Gender.reset_index(inplace=True)\n",
        "data_Gender.drop(['index'],axis=1,inplace=True)\n",
        "data_Gender.to_csv('dataset/join_database_gender.csv')\n",
        "#依照居住地區(城市、鄉村)取樣\n",
        "data_Urban = data[data['Subsample']==\"Urban\"].copy(deep=True) #僅保留城市地區取樣的資料\n",
        "data_Rural = data[data['Subsample']==\"Rural\"].copy(deep=True) #僅保留鄉村地區取樣的資料\n",
        "data_Location = pd.concat([data_Urban,data_Rural])\n",
        "data_Location.reset_index(inplace=True)\n",
        "data_Location.drop(['index'],axis=1,inplace=True)\n",
        "data_Location.to_csv('dataset/join_database_location.csv')\n",
        "#依照教育程度(高、低)取樣\n",
        "data_HighEDU = data[data['Subsample']==\"High Education\"].copy(deep=True) #僅保留高教育程度取樣的資料\n",
        "data_LowEDU = data[data['Subsample']==\"Low Education\"].copy(deep=True) #僅保留低教育程度取樣的資料\n",
        "data_EDU = pd.concat([data_HighEDU,data_LowEDU])\n",
        "data_EDU.reset_index(inplace=True)\n",
        "data_EDU.drop(['index'],axis=1,inplace=True)\n",
        "data_EDU.to_csv('dataset/join_database_education.csv')"
      ]
    },
    {
      "cell_type": "markdown",
      "metadata": {},
      "source": [
        "### 2.2 觀察各年資料筆數"
      ]
    },
    {
      "cell_type": "code",
      "execution_count": 39,
      "metadata": {},
      "outputs": [
        {
          "name": "stdout",
          "output_type": "stream",
          "text": [
            "Subsample = all\n",
            "1970 -> 3   1974 -> 1   1980 -> 4   1981 -> 2   1982 -> 2   \n",
            "1983 -> 4   1984 -> 3   1985 -> 5   1986 -> 6   1987 -> 10  \n",
            "1988 -> 7   1989 -> 10  1990 -> 10  1991 -> 14  1992 -> 17  \n",
            "1993 -> 20  1994 -> 18  1995 -> 23  1996 -> 23  1997 -> 31  \n",
            "1998 -> 46  1999 -> 47  2000 -> 53  2001 -> 58  2002 -> 63  \n",
            "2003 -> 71  2004 -> 73  2005 -> 89  2006 -> 74  2007 -> 79  \n",
            "2008 -> 75  2009 -> 87  2010 -> 85  2011 -> 86  2012 -> 85  \n",
            "2013 -> 86  2014 -> 82  2015 -> 83  2016 -> 77  2017 -> 49  \n",
            "2018 -> 51  2019 -> 40  2020 -> 23  2021 -> 15  "
          ]
        }
      ],
      "source": [
        "print(\"Subsample = all\")\r\n",
        "data_per_year = data_all.groupby('Year of survey').size()\r\n",
        "counter = 0\r\n",
        "for i in data_per_year.keys():\r\n",
        "    if(data_per_year[i]<10):\r\n",
        "        print(str(i)+\" -> \"+ str(data_per_year[i])+\" \",sep=\"  \",end=\"  \")\r\n",
        "    else:\r\n",
        "        print(str(i)+\" -> \"+ str(data_per_year[i]),sep=\"  \",end=\"  \")\r\n",
        "    counter+=1\r\n",
        "    if(counter%5==0):\r\n",
        "        print()\r\n"
      ]
    },
    {
      "cell_type": "code",
      "execution_count": 55,
      "metadata": {},
      "outputs": [
        {
          "name": "stdout",
          "output_type": "stream",
          "text": [
            "Subsample = all\n",
            "Mean age of worker between 15-64 = NA\n",
            "1996 -> 1   1997 -> 1   1998 -> 2   1999 -> 1   2004 -> 1   \n",
            "2005 -> 1   2006 -> 3   2007 -> 2   2009 -> 1   2011 -> 2   \n",
            "2012 -> 2   2013 -> 2   2014 -> 1   2015 -> 1   2016 -> 2   \n",
            "2017 -> 3   2018 -> 3   2019 -> 3   2020 -> 2   "
          ]
        }
      ],
      "source": [
        "print(\"Subsample = all\")\r\n",
        "print(\"Mean age of worker between 15-64 = NA\")\r\n",
        "data_per_year = data_all[data_all[\"Mean age of worker between 15-64\"].isna()==True].groupby(\"Year of survey\").size()\r\n",
        "counter = 0\r\n",
        "for i in data_per_year.keys():\r\n",
        "    if(data_per_year[i]<10):\r\n",
        "        print(str(i)+\" -> \"+ str(data_per_year[i])+\" \",sep=\"  \",end=\"  \")\r\n",
        "    else:\r\n",
        "        print(str(i)+\" -> \"+ str(data_per_year[i]),sep=\"  \",end=\"  \")\r\n",
        "    counter+=1\r\n",
        "    if(counter%5==0):\r\n",
        "        print()"
      ]
    },
    {
      "cell_type": "code",
      "execution_count": 59,
      "metadata": {},
      "outputs": [],
      "source": [
        "import numpy as np\r\n",
        "new_income_data = data_all[data_all[\"Year of survey\"]>=1992].copy(deep=True)\r\n",
        "#new_income_data[\"Mean age of worker between 15-64\"] = new_income_data[\"Mean age of worker between 15-64\"].fillna(0)\r\n",
        "new_income_data[\"Mean age of worker between 15-64\"] = new_income_data[\"Mean age of worker between 15-64\"].fillna(np.mean(new_income_data[\"Mean age of worker between 15-64\"]))"
      ]
    },
    {
      "cell_type": "code",
      "execution_count": 61,
      "metadata": {},
      "outputs": [
        {
          "data": {
            "text/plain": "Income Level Name\nHigh income            608\nLow income             142\nLower middle income    430\nUpper middle income    529\ndtype: int64"
          },
          "execution_count": 61,
          "metadata": {},
          "output_type": "execute_result"
        }
      ],
      "source": [
        "new_income_data.groupby(\"Income Level Name\").size()"
      ]
    },
    {
      "cell_type": "code",
      "execution_count": 44,
      "metadata": {},
      "outputs": [],
      "source": [
        "#new_income_data"
      ]
    },
    {
      "cell_type": "code",
      "execution_count": 62,
      "metadata": {},
      "outputs": [],
      "source": [
        "meanAgeS = []\n",
        "for i in range(1992,2022,1):\n",
        "    total_population = new_income_data[(new_income_data[\"Year of survey\"] == i) & (new_income_data[\"Income Level Name\"] == \"Low income\")][\"Total population\"]\n",
        "    meanAge = sum(new_income_data[(new_income_data[\"Year of survey\"] == i) & (new_income_data[\"Income Level Name\"] == \"Low income\")]['Mean age of worker between 15-64'] * total_population)/sum(total_population)\n",
        "    meanAgeS.append(meanAge)\n",
        "new_income_data_L = {\"year\": [year for year in range(1992,2022,1)], \"income_level\": [\"Low income\"]*30, \"mean_age_income_level\": meanAgeS}\n",
        "\n",
        "meanAgeS = []\n",
        "for i in range(1992,2022,1):\n",
        "    total_population = new_income_data[(new_income_data[\"Year of survey\"] == i) & (new_income_data[\"Income Level Name\"] == \"Lower middle income\")][\"Total population\"]\n",
        "    meanAge = sum(new_income_data[(new_income_data[\"Year of survey\"] == i) & (new_income_data[\"Income Level Name\"] == \"Lower middle income\")]['Mean age of worker between 15-64'] * total_population)/sum(total_population)\n",
        "    meanAgeS.append(meanAge)\n",
        "new_income_data_LM = {\"year\": [year for year in range(1992,2022,1)], \"income_level\": [\"Lower middle income\"]*30, \"mean_age_income_level\": meanAgeS}\n",
        "\n",
        "meanAgeS = []\n",
        "for i in range(1992,2022,1):\n",
        "    total_population = new_income_data[(new_income_data[\"Year of survey\"] == i) & (new_income_data[\"Income Level Name\"] == \"Upper middle income\")][\"Total population\"]\n",
        "    meanAge = sum(new_income_data[(new_income_data[\"Year of survey\"] == i) & (new_income_data[\"Income Level Name\"] == \"Upper middle income\")]['Mean age of worker between 15-64'] * total_population)/sum(total_population)\n",
        "    meanAgeS.append(meanAge)\n",
        "new_income_data_UM = {\"year\": [year for year in range(1992,2022,1)], \"income_level\": [\"Upper middle income\"]*30, \"mean_age_income_level\": meanAgeS}\n",
        "\n",
        "meanAgeS = []\n",
        "for i in range(1992,2022,1):\n",
        "    total_population = new_income_data[(new_income_data[\"Year of survey\"] == i) & (new_income_data[\"Income Level Name\"] == \"High income\")][\"Total population\"]\n",
        "    meanAge = sum(new_income_data[(new_income_data[\"Year of survey\"] == i) & (new_income_data[\"Income Level Name\"] == \"High income\")]['Mean age of worker between 15-64'] * total_population)/sum(total_population)\n",
        "    meanAgeS.append(meanAge)\n",
        "new_income_data_H = {\"year\": [year for year in range(1992,2022,1)], \"income_level\": [\"High income\"]*30, \"mean_age_income_level\": meanAgeS}"
      ]
    },
    {
      "cell_type": "code",
      "execution_count": 63,
      "metadata": {},
      "outputs": [],
      "source": [
        "dfL = pd.DataFrame(new_income_data_L)\n",
        "dfLM = pd.DataFrame(new_income_data_LM)\n",
        "dfUM = pd.DataFrame(new_income_data_UM)\n",
        "dfH = pd.DataFrame(new_income_data_H)\n",
        "new_income_data_final = pd.concat([dfH,dfUM,dfLM,dfL],axis=0,ignore_index=True)"
      ]
    },
    {
      "cell_type": "code",
      "execution_count": 64,
      "metadata": {},
      "outputs": [
        {
          "data": {
            "text/plain": "income_level\nHigh income            30\nLow income             30\nLower middle income    30\nUpper middle income    30\ndtype: int64"
          },
          "execution_count": 64,
          "metadata": {},
          "output_type": "execute_result"
        }
      ],
      "source": [
        "new_income_data_final.groupby(\"income_level\").size()"
      ]
    },
    {
      "cell_type": "code",
      "execution_count": 65,
      "metadata": {},
      "outputs": [],
      "source": [
        "new_income_data_final.to_csv('cleanDataset/clean_income.csv',index=False)"
      ]
    },
    {
      "cell_type": "code",
      "execution_count": 13,
      "metadata": {
        "colab": {
          "base_uri": "https://localhost:8080/",
          "height": 938
        },
        "id": "9LQ2PY0TzYhf",
        "outputId": "7241a45e-8ae3-42ab-edbd-63dae7b1fcd1"
      },
      "outputs": [
        {
          "data": {
            "text/html": "<div>\n<style scoped>\n    .dataframe tbody tr th:only-of-type {\n        vertical-align: middle;\n    }\n\n    .dataframe tbody tr th {\n        vertical-align: top;\n    }\n\n    .dataframe thead th {\n        text-align: right;\n    }\n</style>\n<table border=\"1\" class=\"dataframe\">\n  <thead>\n    <tr style=\"text-align: right;\">\n      <th></th>\n      <th>Country Name</th>\n      <th>Country Code</th>\n      <th>Region Code</th>\n      <th>Subsample</th>\n      <th>Income Level Name</th>\n      <th>Income Level Code</th>\n      <th>Year of survey</th>\n      <th>Survey Data Source</th>\n      <th>Survey Type</th>\n      <th>Total population</th>\n      <th>...</th>\n      <th>Mean age of worker in agriculture, between 15-64</th>\n      <th>Mean age of worker in industry, between 15-64</th>\n      <th>Mean age of worker in services, between 15-64</th>\n      <th>Mean age of wage worker, between 15-64</th>\n      <th>Mean age of self-employed or unpaid worker, between 15-64</th>\n      <th>Mean age of employer, between 15-64</th>\n      <th>Total flags in survey</th>\n      <th>Percentile (100 = max), total flags</th>\n      <th>Flags over max number of flags</th>\n      <th>Percentile (100 = max), share of flags</th>\n    </tr>\n  </thead>\n  <tbody>\n    <tr>\n      <th>0</th>\n      <td>Bulgaria</td>\n      <td>BGR</td>\n      <td>ECS</td>\n      <td>Female</td>\n      <td>Upper middle income</td>\n      <td>UMC</td>\n      <td>2009</td>\n      <td>BGR_2009_I2D2_EUROSILC.dta</td>\n      <td>I2D2</td>\n      <td>3925271</td>\n      <td>...</td>\n      <td>43.66</td>\n      <td>41.66</td>\n      <td>41.69</td>\n      <td>41.53</td>\n      <td>45.06</td>\n      <td>41.85</td>\n      <td>58.0</td>\n      <td>46.0</td>\n      <td>0.05</td>\n      <td>41.0</td>\n    </tr>\n    <tr>\n      <th>1</th>\n      <td>Bulgaria</td>\n      <td>BGR</td>\n      <td>ECS</td>\n      <td>Female</td>\n      <td>Upper middle income</td>\n      <td>UMC</td>\n      <td>2010</td>\n      <td>BGR_2010_I2D2_EUROSILC.dta</td>\n      <td>I2D2</td>\n      <td>3904399</td>\n      <td>...</td>\n      <td>44.92</td>\n      <td>42.01</td>\n      <td>42.13</td>\n      <td>41.96</td>\n      <td>45.88</td>\n      <td>42.98</td>\n      <td>57.0</td>\n      <td>45.0</td>\n      <td>0.05</td>\n      <td>39.0</td>\n    </tr>\n    <tr>\n      <th>2</th>\n      <td>Bulgaria</td>\n      <td>BGR</td>\n      <td>ECS</td>\n      <td>Female</td>\n      <td>Upper middle income</td>\n      <td>UMC</td>\n      <td>2011</td>\n      <td>BGR_2011_I2D2_EUROSILC.dta</td>\n      <td>I2D2</td>\n      <td>3883330</td>\n      <td>...</td>\n      <td>45.98</td>\n      <td>42.16</td>\n      <td>42.28</td>\n      <td>42.23</td>\n      <td>45.06</td>\n      <td>45.30</td>\n      <td>50.0</td>\n      <td>34.0</td>\n      <td>0.04</td>\n      <td>32.0</td>\n    </tr>\n    <tr>\n      <th>3</th>\n      <td>Bulgaria</td>\n      <td>BGR</td>\n      <td>ECS</td>\n      <td>Female</td>\n      <td>Upper middle income</td>\n      <td>UMC</td>\n      <td>2012</td>\n      <td>BGR_2012_I2D2_EUROSILC.dta</td>\n      <td>I2D2</td>\n      <td>3770787</td>\n      <td>...</td>\n      <td>44.73</td>\n      <td>42.49</td>\n      <td>43.03</td>\n      <td>42.83</td>\n      <td>45.73</td>\n      <td>43.11</td>\n      <td>55.0</td>\n      <td>42.0</td>\n      <td>0.05</td>\n      <td>39.0</td>\n    </tr>\n    <tr>\n      <th>4</th>\n      <td>Bulgaria</td>\n      <td>BGR</td>\n      <td>ECS</td>\n      <td>Female</td>\n      <td>Upper middle income</td>\n      <td>UMC</td>\n      <td>2013</td>\n      <td>BGR_2013_I2D2_EUROSILC.dta</td>\n      <td>I2D2</td>\n      <td>3731765</td>\n      <td>...</td>\n      <td>45.64</td>\n      <td>42.81</td>\n      <td>43.00</td>\n      <td>42.92</td>\n      <td>45.20</td>\n      <td>45.68</td>\n      <td>54.0</td>\n      <td>40.0</td>\n      <td>0.05</td>\n      <td>38.0</td>\n    </tr>\n    <tr>\n      <th>...</th>\n      <td>...</td>\n      <td>...</td>\n      <td>...</td>\n      <td>...</td>\n      <td>...</td>\n      <td>...</td>\n      <td>...</td>\n      <td>...</td>\n      <td>...</td>\n      <td>...</td>\n      <td>...</td>\n      <td>...</td>\n      <td>...</td>\n      <td>...</td>\n      <td>...</td>\n      <td>...</td>\n      <td>...</td>\n      <td>...</td>\n      <td>...</td>\n      <td>...</td>\n      <td>...</td>\n    </tr>\n    <tr>\n      <th>3337</th>\n      <td>South Africa</td>\n      <td>ZAF</td>\n      <td>SSF</td>\n      <td>Male</td>\n      <td>Upper middle income</td>\n      <td>UMC</td>\n      <td>2018</td>\n      <td>zaf_2018_qlfs_v01_m_v06_a_gld_all.dta</td>\n      <td>qlfs</td>\n      <td>27688056</td>\n      <td>...</td>\n      <td>38.05</td>\n      <td>38.65</td>\n      <td>38.84</td>\n      <td>38.16</td>\n      <td>40.04</td>\n      <td>43.29</td>\n      <td>30.0</td>\n      <td>8.0</td>\n      <td>0.02</td>\n      <td>4.0</td>\n    </tr>\n    <tr>\n      <th>3338</th>\n      <td>South Africa</td>\n      <td>ZAF</td>\n      <td>SSF</td>\n      <td>Male</td>\n      <td>Upper middle income</td>\n      <td>UMC</td>\n      <td>2019</td>\n      <td>zaf_2019_qlfs_v01_m_v06_a_gld_all.dta</td>\n      <td>qlfs</td>\n      <td>28051696</td>\n      <td>...</td>\n      <td>38.38</td>\n      <td>39.00</td>\n      <td>39.04</td>\n      <td>38.42</td>\n      <td>40.30</td>\n      <td>43.19</td>\n      <td>30.0</td>\n      <td>8.0</td>\n      <td>0.02</td>\n      <td>4.0</td>\n    </tr>\n    <tr>\n      <th>3339</th>\n      <td>South Africa</td>\n      <td>ZAF</td>\n      <td>SSF</td>\n      <td>Male</td>\n      <td>Upper middle income</td>\n      <td>UMC</td>\n      <td>2020</td>\n      <td>zaf_2020_qlfs_v02_m_v05_a_gld_all.dta</td>\n      <td>qlfs</td>\n      <td>28415249</td>\n      <td>...</td>\n      <td>39.26</td>\n      <td>39.57</td>\n      <td>39.41</td>\n      <td>38.94</td>\n      <td>40.40</td>\n      <td>43.25</td>\n      <td>38.0</td>\n      <td>18.0</td>\n      <td>0.03</td>\n      <td>12.0</td>\n    </tr>\n    <tr>\n      <th>3340</th>\n      <td>Zambia</td>\n      <td>ZMB</td>\n      <td>SSF</td>\n      <td>Male</td>\n      <td>Lower middle income</td>\n      <td>LMC</td>\n      <td>2015</td>\n      <td>zmb_2015_lcms-vii_v01_m_v04_a_gmd.dta</td>\n      <td>lcms-</td>\n      <td>7490127</td>\n      <td>...</td>\n      <td>35.80</td>\n      <td>35.77</td>\n      <td>36.18</td>\n      <td>36.06</td>\n      <td>36.13</td>\n      <td>38.86</td>\n      <td>18.0</td>\n      <td>3.0</td>\n      <td>0.02</td>\n      <td>2.0</td>\n    </tr>\n    <tr>\n      <th>3341</th>\n      <td>Zimbabwe</td>\n      <td>ZWE</td>\n      <td>SSF</td>\n      <td>Male</td>\n      <td>Low income</td>\n      <td>LIC</td>\n      <td>2017</td>\n      <td>zwe_2017_pices_v01_m_v01_a_gmd.dta</td>\n      <td>pices</td>\n      <td>6239494</td>\n      <td>...</td>\n      <td>33.18</td>\n      <td>36.12</td>\n      <td>36.48</td>\n      <td>35.30</td>\n      <td>33.80</td>\n      <td>46.39</td>\n      <td>60.0</td>\n      <td>48.0</td>\n      <td>0.06</td>\n      <td>50.0</td>\n    </tr>\n  </tbody>\n</table>\n<p>3342 rows × 103 columns</p>\n</div>",
            "text/plain": "      Country Name Country Code Region Code Subsample    Income Level Name  \\\n0         Bulgaria          BGR         ECS    Female  Upper middle income   \n1         Bulgaria          BGR         ECS    Female  Upper middle income   \n2         Bulgaria          BGR         ECS    Female  Upper middle income   \n3         Bulgaria          BGR         ECS    Female  Upper middle income   \n4         Bulgaria          BGR         ECS    Female  Upper middle income   \n...            ...          ...         ...       ...                  ...   \n3337  South Africa          ZAF         SSF      Male  Upper middle income   \n3338  South Africa          ZAF         SSF      Male  Upper middle income   \n3339  South Africa          ZAF         SSF      Male  Upper middle income   \n3340        Zambia          ZMB         SSF      Male  Lower middle income   \n3341      Zimbabwe          ZWE         SSF      Male           Low income   \n\n     Income Level Code  Year of survey                     Survey Data Source  \\\n0                  UMC            2009             BGR_2009_I2D2_EUROSILC.dta   \n1                  UMC            2010             BGR_2010_I2D2_EUROSILC.dta   \n2                  UMC            2011             BGR_2011_I2D2_EUROSILC.dta   \n3                  UMC            2012             BGR_2012_I2D2_EUROSILC.dta   \n4                  UMC            2013             BGR_2013_I2D2_EUROSILC.dta   \n...                ...             ...                                    ...   \n3337               UMC            2018  zaf_2018_qlfs_v01_m_v06_a_gld_all.dta   \n3338               UMC            2019  zaf_2019_qlfs_v01_m_v06_a_gld_all.dta   \n3339               UMC            2020  zaf_2020_qlfs_v02_m_v05_a_gld_all.dta   \n3340               LMC            2015  zmb_2015_lcms-vii_v01_m_v04_a_gmd.dta   \n3341               LIC            2017     zwe_2017_pices_v01_m_v01_a_gmd.dta   \n\n     Survey Type  Total population  ...  \\\n0           I2D2           3925271  ...   \n1           I2D2           3904399  ...   \n2           I2D2           3883330  ...   \n3           I2D2           3770787  ...   \n4           I2D2           3731765  ...   \n...          ...               ...  ...   \n3337        qlfs          27688056  ...   \n3338        qlfs          28051696  ...   \n3339        qlfs          28415249  ...   \n3340       lcms-           7490127  ...   \n3341       pices           6239494  ...   \n\n      Mean age of worker in agriculture, between 15-64  \\\n0                                                43.66   \n1                                                44.92   \n2                                                45.98   \n3                                                44.73   \n4                                                45.64   \n...                                                ...   \n3337                                             38.05   \n3338                                             38.38   \n3339                                             39.26   \n3340                                             35.80   \n3341                                             33.18   \n\n      Mean age of worker in industry, between 15-64  \\\n0                                             41.66   \n1                                             42.01   \n2                                             42.16   \n3                                             42.49   \n4                                             42.81   \n...                                             ...   \n3337                                          38.65   \n3338                                          39.00   \n3339                                          39.57   \n3340                                          35.77   \n3341                                          36.12   \n\n      Mean age of worker in services, between 15-64  \\\n0                                             41.69   \n1                                             42.13   \n2                                             42.28   \n3                                             43.03   \n4                                             43.00   \n...                                             ...   \n3337                                          38.84   \n3338                                          39.04   \n3339                                          39.41   \n3340                                          36.18   \n3341                                          36.48   \n\n      Mean age of wage worker, between 15-64  \\\n0                                      41.53   \n1                                      41.96   \n2                                      42.23   \n3                                      42.83   \n4                                      42.92   \n...                                      ...   \n3337                                   38.16   \n3338                                   38.42   \n3339                                   38.94   \n3340                                   36.06   \n3341                                   35.30   \n\n      Mean age of self-employed or unpaid worker, between 15-64  \\\n0                                                 45.06           \n1                                                 45.88           \n2                                                 45.06           \n3                                                 45.73           \n4                                                 45.20           \n...                                                 ...           \n3337                                              40.04           \n3338                                              40.30           \n3339                                              40.40           \n3340                                              36.13           \n3341                                              33.80           \n\n      Mean age of employer, between 15-64  Total flags in survey  \\\n0                                   41.85                   58.0   \n1                                   42.98                   57.0   \n2                                   45.30                   50.0   \n3                                   43.11                   55.0   \n4                                   45.68                   54.0   \n...                                   ...                    ...   \n3337                                43.29                   30.0   \n3338                                43.19                   30.0   \n3339                                43.25                   38.0   \n3340                                38.86                   18.0   \n3341                                46.39                   60.0   \n\n      Percentile (100 = max), total flags  Flags over max number of flags  \\\n0                                    46.0                            0.05   \n1                                    45.0                            0.05   \n2                                    34.0                            0.04   \n3                                    42.0                            0.05   \n4                                    40.0                            0.05   \n...                                   ...                             ...   \n3337                                  8.0                            0.02   \n3338                                  8.0                            0.02   \n3339                                 18.0                            0.03   \n3340                                  3.0                            0.02   \n3341                                 48.0                            0.06   \n\n      Percentile (100 = max), share of flags  \n0                                       41.0  \n1                                       39.0  \n2                                       32.0  \n3                                       39.0  \n4                                       38.0  \n...                                      ...  \n3337                                     4.0  \n3338                                     4.0  \n3339                                    12.0  \n3340                                     2.0  \n3341                                    50.0  \n\n[3342 rows x 103 columns]"
          },
          "execution_count": 13,
          "metadata": {},
          "output_type": "execute_result"
        }
      ],
      "source": [
        "data_Gender"
      ]
    },
    {
      "cell_type": "code",
      "execution_count": 33,
      "metadata": {},
      "outputs": [
        {
          "data": {
            "text/plain": [
              "0       1.638801e+08\n",
              "1       1.648828e+08\n",
              "2       1.647309e+08\n",
              "3       1.620684e+08\n",
              "4       1.602793e+08\n",
              "            ...     \n",
              "3337    1.072358e+09\n",
              "3338    1.093455e+09\n",
              "3339    1.120982e+09\n",
              "3340    2.682963e+08\n",
              "3341    2.086487e+08\n",
              "Length: 3342, dtype: float64"
            ]
          },
          "execution_count": 33,
          "metadata": {},
          "output_type": "execute_result"
        }
      ],
      "source": [
        "data_Gender[\"Mean age of worker between 15-64\"]*data_Gender[\"Total population\"]"
      ]
    },
    {
      "cell_type": "code",
      "execution_count": 67,
      "metadata": {},
      "outputs": [],
      "source": [
        "#data_Gender[\"Mean age of worker between 15-64\"] = data_Gender[\"Mean age of worker between 15-64\"].fillna(0)\r\n",
        "data_Gender[\"Mean age of worker between 15-64\"] = data_Gender[\"Mean age of worker between 15-64\"].fillna(np.mean(data_Gender[\"Mean age of worker between 15-64\"]))"
      ]
    },
    {
      "cell_type": "code",
      "execution_count": 68,
      "metadata": {},
      "outputs": [],
      "source": [
        "meanAgeS = []\n",
        "for i in range(1992,2022,1):\n",
        "    total_population = data_Gender[(data_Gender[\"Year of survey\"] == i) & (data_Gender[\"Subsample\"] == \"Male\")][\"Total population\"]\n",
        "    meanAge = sum(data_Gender[(data_Gender[\"Year of survey\"] == i) & (data_Gender[\"Subsample\"] == \"Male\")]['Mean age of worker between 15-64'] * total_population)/sum(total_population)\n",
        "    meanAgeS.append(meanAge)\n",
        "new_gender_data_M = {\"year\": [year for year in range(1992,2022,1)], \"gender\": [\"Male\"]*30, \"mean_age_gender\": meanAgeS}\n",
        "\n",
        "meanAgeS = []\n",
        "for i in range(1992,2022,1):\n",
        "    total_population = data_Gender[(data_Gender[\"Year of survey\"] == i) & (data_Gender[\"Subsample\"] == \"Female\")][\"Total population\"]\n",
        "    meanAge = sum(data_Gender[(data_Gender[\"Year of survey\"] == i) & (data_Gender[\"Subsample\"] == \"Female\")]['Mean age of worker between 15-64'] * total_population)/sum(total_population)\n",
        "    meanAgeS.append(meanAge)\n",
        "new_gender_data_F = {\"year\": [year for year in range(1992,2022,1)], \"gender\": [\"Female\"]*30, \"mean_age_gender\": meanAgeS}"
      ]
    },
    {
      "cell_type": "code",
      "execution_count": 69,
      "metadata": {},
      "outputs": [],
      "source": [
        "dfM = pd.DataFrame(new_gender_data_M)\n",
        "dfF = pd.DataFrame(new_gender_data_F)\n",
        "new_gender_data = pd.concat([dfM,dfF],axis=0,ignore_index=True)\n",
        "new_gender_data.to_csv('cleanDataset/clean_gender.csv',index=False)"
      ]
    },
    {
      "cell_type": "code",
      "execution_count": 70,
      "metadata": {},
      "outputs": [
        {
          "data": {
            "text/html": "<div>\n<style scoped>\n    .dataframe tbody tr th:only-of-type {\n        vertical-align: middle;\n    }\n\n    .dataframe tbody tr th {\n        vertical-align: top;\n    }\n\n    .dataframe thead th {\n        text-align: right;\n    }\n</style>\n<table border=\"1\" class=\"dataframe\">\n  <thead>\n    <tr style=\"text-align: right;\">\n      <th></th>\n      <th>year</th>\n      <th>gender</th>\n      <th>mean_age_gender</th>\n    </tr>\n  </thead>\n  <tbody>\n    <tr>\n      <th>0</th>\n      <td>1992</td>\n      <td>Male</td>\n      <td>34.605236</td>\n    </tr>\n    <tr>\n      <th>1</th>\n      <td>1993</td>\n      <td>Male</td>\n      <td>34.767036</td>\n    </tr>\n    <tr>\n      <th>2</th>\n      <td>1994</td>\n      <td>Male</td>\n      <td>35.384144</td>\n    </tr>\n    <tr>\n      <th>3</th>\n      <td>1995</td>\n      <td>Male</td>\n      <td>34.600461</td>\n    </tr>\n    <tr>\n      <th>4</th>\n      <td>1996</td>\n      <td>Male</td>\n      <td>35.349415</td>\n    </tr>\n    <tr>\n      <th>5</th>\n      <td>1997</td>\n      <td>Male</td>\n      <td>35.568325</td>\n    </tr>\n    <tr>\n      <th>6</th>\n      <td>1998</td>\n      <td>Male</td>\n      <td>35.741342</td>\n    </tr>\n    <tr>\n      <th>7</th>\n      <td>1999</td>\n      <td>Male</td>\n      <td>35.292732</td>\n    </tr>\n    <tr>\n      <th>8</th>\n      <td>2000</td>\n      <td>Male</td>\n      <td>36.626421</td>\n    </tr>\n    <tr>\n      <th>9</th>\n      <td>2001</td>\n      <td>Male</td>\n      <td>35.923230</td>\n    </tr>\n    <tr>\n      <th>10</th>\n      <td>2002</td>\n      <td>Male</td>\n      <td>38.157728</td>\n    </tr>\n    <tr>\n      <th>11</th>\n      <td>2003</td>\n      <td>Male</td>\n      <td>36.945808</td>\n    </tr>\n    <tr>\n      <th>12</th>\n      <td>2004</td>\n      <td>Male</td>\n      <td>36.417100</td>\n    </tr>\n    <tr>\n      <th>13</th>\n      <td>2005</td>\n      <td>Male</td>\n      <td>37.666275</td>\n    </tr>\n    <tr>\n      <th>14</th>\n      <td>2006</td>\n      <td>Male</td>\n      <td>37.602846</td>\n    </tr>\n    <tr>\n      <th>15</th>\n      <td>2007</td>\n      <td>Male</td>\n      <td>38.157788</td>\n    </tr>\n    <tr>\n      <th>16</th>\n      <td>2008</td>\n      <td>Male</td>\n      <td>37.716979</td>\n    </tr>\n    <tr>\n      <th>17</th>\n      <td>2009</td>\n      <td>Male</td>\n      <td>37.388895</td>\n    </tr>\n    <tr>\n      <th>18</th>\n      <td>2010</td>\n      <td>Male</td>\n      <td>39.444626</td>\n    </tr>\n    <tr>\n      <th>19</th>\n      <td>2011</td>\n      <td>Male</td>\n      <td>40.422658</td>\n    </tr>\n    <tr>\n      <th>20</th>\n      <td>2012</td>\n      <td>Male</td>\n      <td>40.321334</td>\n    </tr>\n    <tr>\n      <th>21</th>\n      <td>2013</td>\n      <td>Male</td>\n      <td>40.529598</td>\n    </tr>\n    <tr>\n      <th>22</th>\n      <td>2014</td>\n      <td>Male</td>\n      <td>38.452244</td>\n    </tr>\n    <tr>\n      <th>23</th>\n      <td>2015</td>\n      <td>Male</td>\n      <td>38.659421</td>\n    </tr>\n    <tr>\n      <th>24</th>\n      <td>2016</td>\n      <td>Male</td>\n      <td>39.000966</td>\n    </tr>\n    <tr>\n      <th>25</th>\n      <td>2017</td>\n      <td>Male</td>\n      <td>38.166811</td>\n    </tr>\n    <tr>\n      <th>26</th>\n      <td>2018</td>\n      <td>Male</td>\n      <td>38.013146</td>\n    </tr>\n    <tr>\n      <th>27</th>\n      <td>2019</td>\n      <td>Male</td>\n      <td>38.338284</td>\n    </tr>\n    <tr>\n      <th>28</th>\n      <td>2020</td>\n      <td>Male</td>\n      <td>37.488740</td>\n    </tr>\n    <tr>\n      <th>29</th>\n      <td>2021</td>\n      <td>Male</td>\n      <td>37.907309</td>\n    </tr>\n    <tr>\n      <th>30</th>\n      <td>1992</td>\n      <td>Female</td>\n      <td>34.030135</td>\n    </tr>\n    <tr>\n      <th>31</th>\n      <td>1993</td>\n      <td>Female</td>\n      <td>34.411072</td>\n    </tr>\n    <tr>\n      <th>32</th>\n      <td>1994</td>\n      <td>Female</td>\n      <td>34.606256</td>\n    </tr>\n    <tr>\n      <th>33</th>\n      <td>1995</td>\n      <td>Female</td>\n      <td>34.266532</td>\n    </tr>\n    <tr>\n      <th>34</th>\n      <td>1996</td>\n      <td>Female</td>\n      <td>34.951583</td>\n    </tr>\n    <tr>\n      <th>35</th>\n      <td>1997</td>\n      <td>Female</td>\n      <td>35.346922</td>\n    </tr>\n    <tr>\n      <th>36</th>\n      <td>1998</td>\n      <td>Female</td>\n      <td>35.529458</td>\n    </tr>\n    <tr>\n      <th>37</th>\n      <td>1999</td>\n      <td>Female</td>\n      <td>35.290214</td>\n    </tr>\n    <tr>\n      <th>38</th>\n      <td>2000</td>\n      <td>Female</td>\n      <td>36.494543</td>\n    </tr>\n    <tr>\n      <th>39</th>\n      <td>2001</td>\n      <td>Female</td>\n      <td>35.812400</td>\n    </tr>\n    <tr>\n      <th>40</th>\n      <td>2002</td>\n      <td>Female</td>\n      <td>37.014499</td>\n    </tr>\n    <tr>\n      <th>41</th>\n      <td>2003</td>\n      <td>Female</td>\n      <td>36.934769</td>\n    </tr>\n    <tr>\n      <th>42</th>\n      <td>2004</td>\n      <td>Female</td>\n      <td>36.442783</td>\n    </tr>\n    <tr>\n      <th>43</th>\n      <td>2005</td>\n      <td>Female</td>\n      <td>37.519386</td>\n    </tr>\n    <tr>\n      <th>44</th>\n      <td>2006</td>\n      <td>Female</td>\n      <td>37.657770</td>\n    </tr>\n    <tr>\n      <th>45</th>\n      <td>2007</td>\n      <td>Female</td>\n      <td>37.666428</td>\n    </tr>\n    <tr>\n      <th>46</th>\n      <td>2008</td>\n      <td>Female</td>\n      <td>37.722876</td>\n    </tr>\n    <tr>\n      <th>47</th>\n      <td>2009</td>\n      <td>Female</td>\n      <td>37.556477</td>\n    </tr>\n    <tr>\n      <th>48</th>\n      <td>2010</td>\n      <td>Female</td>\n      <td>38.666611</td>\n    </tr>\n    <tr>\n      <th>49</th>\n      <td>2011</td>\n      <td>Female</td>\n      <td>40.465093</td>\n    </tr>\n    <tr>\n      <th>50</th>\n      <td>2012</td>\n      <td>Female</td>\n      <td>40.471547</td>\n    </tr>\n    <tr>\n      <th>51</th>\n      <td>2013</td>\n      <td>Female</td>\n      <td>40.533036</td>\n    </tr>\n    <tr>\n      <th>52</th>\n      <td>2014</td>\n      <td>Female</td>\n      <td>38.489342</td>\n    </tr>\n    <tr>\n      <th>53</th>\n      <td>2015</td>\n      <td>Female</td>\n      <td>38.683504</td>\n    </tr>\n    <tr>\n      <th>54</th>\n      <td>2016</td>\n      <td>Female</td>\n      <td>39.061058</td>\n    </tr>\n    <tr>\n      <th>55</th>\n      <td>2017</td>\n      <td>Female</td>\n      <td>38.323322</td>\n    </tr>\n    <tr>\n      <th>56</th>\n      <td>2018</td>\n      <td>Female</td>\n      <td>38.227243</td>\n    </tr>\n    <tr>\n      <th>57</th>\n      <td>2019</td>\n      <td>Female</td>\n      <td>38.895752</td>\n    </tr>\n    <tr>\n      <th>58</th>\n      <td>2020</td>\n      <td>Female</td>\n      <td>37.607800</td>\n    </tr>\n    <tr>\n      <th>59</th>\n      <td>2021</td>\n      <td>Female</td>\n      <td>37.916731</td>\n    </tr>\n  </tbody>\n</table>\n</div>",
            "text/plain": "    year  gender  mean_age_gender\n0   1992    Male        34.605236\n1   1993    Male        34.767036\n2   1994    Male        35.384144\n3   1995    Male        34.600461\n4   1996    Male        35.349415\n5   1997    Male        35.568325\n6   1998    Male        35.741342\n7   1999    Male        35.292732\n8   2000    Male        36.626421\n9   2001    Male        35.923230\n10  2002    Male        38.157728\n11  2003    Male        36.945808\n12  2004    Male        36.417100\n13  2005    Male        37.666275\n14  2006    Male        37.602846\n15  2007    Male        38.157788\n16  2008    Male        37.716979\n17  2009    Male        37.388895\n18  2010    Male        39.444626\n19  2011    Male        40.422658\n20  2012    Male        40.321334\n21  2013    Male        40.529598\n22  2014    Male        38.452244\n23  2015    Male        38.659421\n24  2016    Male        39.000966\n25  2017    Male        38.166811\n26  2018    Male        38.013146\n27  2019    Male        38.338284\n28  2020    Male        37.488740\n29  2021    Male        37.907309\n30  1992  Female        34.030135\n31  1993  Female        34.411072\n32  1994  Female        34.606256\n33  1995  Female        34.266532\n34  1996  Female        34.951583\n35  1997  Female        35.346922\n36  1998  Female        35.529458\n37  1999  Female        35.290214\n38  2000  Female        36.494543\n39  2001  Female        35.812400\n40  2002  Female        37.014499\n41  2003  Female        36.934769\n42  2004  Female        36.442783\n43  2005  Female        37.519386\n44  2006  Female        37.657770\n45  2007  Female        37.666428\n46  2008  Female        37.722876\n47  2009  Female        37.556477\n48  2010  Female        38.666611\n49  2011  Female        40.465093\n50  2012  Female        40.471547\n51  2013  Female        40.533036\n52  2014  Female        38.489342\n53  2015  Female        38.683504\n54  2016  Female        39.061058\n55  2017  Female        38.323322\n56  2018  Female        38.227243\n57  2019  Female        38.895752\n58  2020  Female        37.607800\n59  2021  Female        37.916731"
          },
          "execution_count": 70,
          "metadata": {},
          "output_type": "execute_result"
        }
      ],
      "source": [
        "new_gender_data "
      ]
    },
    {
      "cell_type": "code",
      "execution_count": 39,
      "metadata": {},
      "outputs": [
        {
          "data": {
            "text/html": [
              "<div>\n",
              "<style scoped>\n",
              "    .dataframe tbody tr th:only-of-type {\n",
              "        vertical-align: middle;\n",
              "    }\n",
              "\n",
              "    .dataframe tbody tr th {\n",
              "        vertical-align: top;\n",
              "    }\n",
              "\n",
              "    .dataframe thead th {\n",
              "        text-align: right;\n",
              "    }\n",
              "</style>\n",
              "<table border=\"1\" class=\"dataframe\">\n",
              "  <thead>\n",
              "    <tr style=\"text-align: right;\">\n",
              "      <th></th>\n",
              "      <th>Country Name</th>\n",
              "      <th>Country Code</th>\n",
              "      <th>Region Code</th>\n",
              "      <th>Subsample</th>\n",
              "      <th>Income Level Name</th>\n",
              "      <th>Income Level Code</th>\n",
              "      <th>Year of survey</th>\n",
              "      <th>Survey Data Source</th>\n",
              "      <th>Survey Type</th>\n",
              "      <th>Total population</th>\n",
              "      <th>...</th>\n",
              "      <th>Mean age of worker in agriculture, between 15-64</th>\n",
              "      <th>Mean age of worker in industry, between 15-64</th>\n",
              "      <th>Mean age of worker in services, between 15-64</th>\n",
              "      <th>Mean age of wage worker, between 15-64</th>\n",
              "      <th>Mean age of self-employed or unpaid worker, between 15-64</th>\n",
              "      <th>Mean age of employer, between 15-64</th>\n",
              "      <th>Total flags in survey</th>\n",
              "      <th>Percentile (100 = max), total flags</th>\n",
              "      <th>Flags over max number of flags</th>\n",
              "      <th>Percentile (100 = max), share of flags</th>\n",
              "    </tr>\n",
              "  </thead>\n",
              "  <tbody>\n",
              "    <tr>\n",
              "      <th>0</th>\n",
              "      <td>Bulgaria</td>\n",
              "      <td>BGR</td>\n",
              "      <td>ECS</td>\n",
              "      <td>Urban</td>\n",
              "      <td>Upper middle income</td>\n",
              "      <td>UMC</td>\n",
              "      <td>2009</td>\n",
              "      <td>BGR_2009_I2D2_EUROSILC.dta</td>\n",
              "      <td>I2D2</td>\n",
              "      <td>3756071</td>\n",
              "      <td>...</td>\n",
              "      <td>42.54</td>\n",
              "      <td>42.21</td>\n",
              "      <td>40.65</td>\n",
              "      <td>41.01</td>\n",
              "      <td>42.45</td>\n",
              "      <td>42.97</td>\n",
              "      <td>58.0</td>\n",
              "      <td>46.0</td>\n",
              "      <td>0.05</td>\n",
              "      <td>41.0</td>\n",
              "    </tr>\n",
              "    <tr>\n",
              "      <th>1</th>\n",
              "      <td>Bulgaria</td>\n",
              "      <td>BGR</td>\n",
              "      <td>ECS</td>\n",
              "      <td>Urban</td>\n",
              "      <td>Upper middle income</td>\n",
              "      <td>UMC</td>\n",
              "      <td>2010</td>\n",
              "      <td>BGR_2010_I2D2_EUROSILC.dta</td>\n",
              "      <td>I2D2</td>\n",
              "      <td>3812279</td>\n",
              "      <td>...</td>\n",
              "      <td>44.75</td>\n",
              "      <td>42.28</td>\n",
              "      <td>41.33</td>\n",
              "      <td>41.30</td>\n",
              "      <td>44.62</td>\n",
              "      <td>44.88</td>\n",
              "      <td>57.0</td>\n",
              "      <td>45.0</td>\n",
              "      <td>0.05</td>\n",
              "      <td>39.0</td>\n",
              "    </tr>\n",
              "    <tr>\n",
              "      <th>2</th>\n",
              "      <td>Bulgaria</td>\n",
              "      <td>BGR</td>\n",
              "      <td>ECS</td>\n",
              "      <td>Urban</td>\n",
              "      <td>Upper middle income</td>\n",
              "      <td>UMC</td>\n",
              "      <td>2011</td>\n",
              "      <td>BGR_2011_I2D2_EUROSILC.dta</td>\n",
              "      <td>I2D2</td>\n",
              "      <td>3764484</td>\n",
              "      <td>...</td>\n",
              "      <td>44.43</td>\n",
              "      <td>42.24</td>\n",
              "      <td>41.40</td>\n",
              "      <td>41.45</td>\n",
              "      <td>42.52</td>\n",
              "      <td>46.85</td>\n",
              "      <td>50.0</td>\n",
              "      <td>34.0</td>\n",
              "      <td>0.04</td>\n",
              "      <td>32.0</td>\n",
              "    </tr>\n",
              "    <tr>\n",
              "      <th>3</th>\n",
              "      <td>Bulgaria</td>\n",
              "      <td>BGR</td>\n",
              "      <td>ECS</td>\n",
              "      <td>Urban</td>\n",
              "      <td>Upper middle income</td>\n",
              "      <td>UMC</td>\n",
              "      <td>2012</td>\n",
              "      <td>BGR_2012_I2D2_EUROSILC.dta</td>\n",
              "      <td>I2D2</td>\n",
              "      <td>4819355</td>\n",
              "      <td>...</td>\n",
              "      <td>43.58</td>\n",
              "      <td>43.51</td>\n",
              "      <td>42.08</td>\n",
              "      <td>42.40</td>\n",
              "      <td>43.39</td>\n",
              "      <td>45.18</td>\n",
              "      <td>55.0</td>\n",
              "      <td>42.0</td>\n",
              "      <td>0.05</td>\n",
              "      <td>39.0</td>\n",
              "    </tr>\n",
              "    <tr>\n",
              "      <th>4</th>\n",
              "      <td>Bulgaria</td>\n",
              "      <td>BGR</td>\n",
              "      <td>ECS</td>\n",
              "      <td>Urban</td>\n",
              "      <td>Upper middle income</td>\n",
              "      <td>UMC</td>\n",
              "      <td>2013</td>\n",
              "      <td>BGR_2013_I2D2_EUROSILC.dta</td>\n",
              "      <td>I2D2</td>\n",
              "      <td>4770027</td>\n",
              "      <td>...</td>\n",
              "      <td>44.13</td>\n",
              "      <td>43.47</td>\n",
              "      <td>42.39</td>\n",
              "      <td>42.59</td>\n",
              "      <td>43.30</td>\n",
              "      <td>46.06</td>\n",
              "      <td>54.0</td>\n",
              "      <td>40.0</td>\n",
              "      <td>0.05</td>\n",
              "      <td>38.0</td>\n",
              "    </tr>\n",
              "    <tr>\n",
              "      <th>...</th>\n",
              "      <td>...</td>\n",
              "      <td>...</td>\n",
              "      <td>...</td>\n",
              "      <td>...</td>\n",
              "      <td>...</td>\n",
              "      <td>...</td>\n",
              "      <td>...</td>\n",
              "      <td>...</td>\n",
              "      <td>...</td>\n",
              "      <td>...</td>\n",
              "      <td>...</td>\n",
              "      <td>...</td>\n",
              "      <td>...</td>\n",
              "      <td>...</td>\n",
              "      <td>...</td>\n",
              "      <td>...</td>\n",
              "      <td>...</td>\n",
              "      <td>...</td>\n",
              "      <td>...</td>\n",
              "      <td>...</td>\n",
              "      <td>...</td>\n",
              "    </tr>\n",
              "    <tr>\n",
              "      <th>2961</th>\n",
              "      <td>South Africa</td>\n",
              "      <td>ZAF</td>\n",
              "      <td>SSF</td>\n",
              "      <td>Rural</td>\n",
              "      <td>Upper middle income</td>\n",
              "      <td>UMC</td>\n",
              "      <td>2018</td>\n",
              "      <td>zaf_2018_qlfs_v01_m_v06_a_gld_all.dta</td>\n",
              "      <td>qlfs</td>\n",
              "      <td>19922517</td>\n",
              "      <td>...</td>\n",
              "      <td>38.24</td>\n",
              "      <td>37.56</td>\n",
              "      <td>39.53</td>\n",
              "      <td>38.46</td>\n",
              "      <td>40.56</td>\n",
              "      <td>42.33</td>\n",
              "      <td>30.0</td>\n",
              "      <td>8.0</td>\n",
              "      <td>0.02</td>\n",
              "      <td>4.0</td>\n",
              "    </tr>\n",
              "    <tr>\n",
              "      <th>2962</th>\n",
              "      <td>South Africa</td>\n",
              "      <td>ZAF</td>\n",
              "      <td>SSF</td>\n",
              "      <td>Rural</td>\n",
              "      <td>Upper middle income</td>\n",
              "      <td>UMC</td>\n",
              "      <td>2019</td>\n",
              "      <td>zaf_2019_qlfs_v01_m_v06_a_gld_all.dta</td>\n",
              "      <td>qlfs</td>\n",
              "      <td>19999075</td>\n",
              "      <td>...</td>\n",
              "      <td>38.29</td>\n",
              "      <td>38.47</td>\n",
              "      <td>39.60</td>\n",
              "      <td>38.65</td>\n",
              "      <td>41.33</td>\n",
              "      <td>42.15</td>\n",
              "      <td>30.0</td>\n",
              "      <td>8.0</td>\n",
              "      <td>0.02</td>\n",
              "      <td>4.0</td>\n",
              "    </tr>\n",
              "    <tr>\n",
              "      <th>2963</th>\n",
              "      <td>South Africa</td>\n",
              "      <td>ZAF</td>\n",
              "      <td>SSF</td>\n",
              "      <td>Rural</td>\n",
              "      <td>Upper middle income</td>\n",
              "      <td>UMC</td>\n",
              "      <td>2020</td>\n",
              "      <td>zaf_2020_qlfs_v02_m_v05_a_gld_all.dta</td>\n",
              "      <td>qlfs</td>\n",
              "      <td>20255391</td>\n",
              "      <td>...</td>\n",
              "      <td>39.47</td>\n",
              "      <td>38.91</td>\n",
              "      <td>40.04</td>\n",
              "      <td>39.34</td>\n",
              "      <td>40.71</td>\n",
              "      <td>43.03</td>\n",
              "      <td>38.0</td>\n",
              "      <td>18.0</td>\n",
              "      <td>0.03</td>\n",
              "      <td>12.0</td>\n",
              "    </tr>\n",
              "    <tr>\n",
              "      <th>2964</th>\n",
              "      <td>Zambia</td>\n",
              "      <td>ZMB</td>\n",
              "      <td>SSF</td>\n",
              "      <td>Rural</td>\n",
              "      <td>Lower middle income</td>\n",
              "      <td>LMC</td>\n",
              "      <td>2015</td>\n",
              "      <td>zmb_2015_lcms-vii_v01_m_v04_a_gmd.dta</td>\n",
              "      <td>lcms-</td>\n",
              "      <td>8981518</td>\n",
              "      <td>...</td>\n",
              "      <td>35.11</td>\n",
              "      <td>34.93</td>\n",
              "      <td>34.46</td>\n",
              "      <td>34.52</td>\n",
              "      <td>35.16</td>\n",
              "      <td>38.84</td>\n",
              "      <td>18.0</td>\n",
              "      <td>3.0</td>\n",
              "      <td>0.02</td>\n",
              "      <td>2.0</td>\n",
              "    </tr>\n",
              "    <tr>\n",
              "      <th>2965</th>\n",
              "      <td>Zimbabwe</td>\n",
              "      <td>ZWE</td>\n",
              "      <td>SSF</td>\n",
              "      <td>Rural</td>\n",
              "      <td>Low income</td>\n",
              "      <td>LIC</td>\n",
              "      <td>2017</td>\n",
              "      <td>zwe_2017_pices_v01_m_v01_a_gmd.dta</td>\n",
              "      <td>pices</td>\n",
              "      <td>8980189</td>\n",
              "      <td>...</td>\n",
              "      <td>34.67</td>\n",
              "      <td>34.46</td>\n",
              "      <td>35.84</td>\n",
              "      <td>33.97</td>\n",
              "      <td>34.87</td>\n",
              "      <td>37.85</td>\n",
              "      <td>60.0</td>\n",
              "      <td>48.0</td>\n",
              "      <td>0.06</td>\n",
              "      <td>50.0</td>\n",
              "    </tr>\n",
              "  </tbody>\n",
              "</table>\n",
              "<p>2966 rows × 103 columns</p>\n",
              "</div>"
            ],
            "text/plain": [
              "      Country Name Country Code Region Code Subsample    Income Level Name  \\\n",
              "0         Bulgaria          BGR         ECS     Urban  Upper middle income   \n",
              "1         Bulgaria          BGR         ECS     Urban  Upper middle income   \n",
              "2         Bulgaria          BGR         ECS     Urban  Upper middle income   \n",
              "3         Bulgaria          BGR         ECS     Urban  Upper middle income   \n",
              "4         Bulgaria          BGR         ECS     Urban  Upper middle income   \n",
              "...            ...          ...         ...       ...                  ...   \n",
              "2961  South Africa          ZAF         SSF     Rural  Upper middle income   \n",
              "2962  South Africa          ZAF         SSF     Rural  Upper middle income   \n",
              "2963  South Africa          ZAF         SSF     Rural  Upper middle income   \n",
              "2964        Zambia          ZMB         SSF     Rural  Lower middle income   \n",
              "2965      Zimbabwe          ZWE         SSF     Rural           Low income   \n",
              "\n",
              "     Income Level Code  Year of survey                     Survey Data Source  \\\n",
              "0                  UMC            2009             BGR_2009_I2D2_EUROSILC.dta   \n",
              "1                  UMC            2010             BGR_2010_I2D2_EUROSILC.dta   \n",
              "2                  UMC            2011             BGR_2011_I2D2_EUROSILC.dta   \n",
              "3                  UMC            2012             BGR_2012_I2D2_EUROSILC.dta   \n",
              "4                  UMC            2013             BGR_2013_I2D2_EUROSILC.dta   \n",
              "...                ...             ...                                    ...   \n",
              "2961               UMC            2018  zaf_2018_qlfs_v01_m_v06_a_gld_all.dta   \n",
              "2962               UMC            2019  zaf_2019_qlfs_v01_m_v06_a_gld_all.dta   \n",
              "2963               UMC            2020  zaf_2020_qlfs_v02_m_v05_a_gld_all.dta   \n",
              "2964               LMC            2015  zmb_2015_lcms-vii_v01_m_v04_a_gmd.dta   \n",
              "2965               LIC            2017     zwe_2017_pices_v01_m_v01_a_gmd.dta   \n",
              "\n",
              "     Survey Type  Total population  ...  \\\n",
              "0           I2D2           3756071  ...   \n",
              "1           I2D2           3812279  ...   \n",
              "2           I2D2           3764484  ...   \n",
              "3           I2D2           4819355  ...   \n",
              "4           I2D2           4770027  ...   \n",
              "...          ...               ...  ...   \n",
              "2961        qlfs          19922517  ...   \n",
              "2962        qlfs          19999075  ...   \n",
              "2963        qlfs          20255391  ...   \n",
              "2964       lcms-           8981518  ...   \n",
              "2965       pices           8980189  ...   \n",
              "\n",
              "      Mean age of worker in agriculture, between 15-64  \\\n",
              "0                                                42.54   \n",
              "1                                                44.75   \n",
              "2                                                44.43   \n",
              "3                                                43.58   \n",
              "4                                                44.13   \n",
              "...                                                ...   \n",
              "2961                                             38.24   \n",
              "2962                                             38.29   \n",
              "2963                                             39.47   \n",
              "2964                                             35.11   \n",
              "2965                                             34.67   \n",
              "\n",
              "      Mean age of worker in industry, between 15-64  \\\n",
              "0                                             42.21   \n",
              "1                                             42.28   \n",
              "2                                             42.24   \n",
              "3                                             43.51   \n",
              "4                                             43.47   \n",
              "...                                             ...   \n",
              "2961                                          37.56   \n",
              "2962                                          38.47   \n",
              "2963                                          38.91   \n",
              "2964                                          34.93   \n",
              "2965                                          34.46   \n",
              "\n",
              "      Mean age of worker in services, between 15-64  \\\n",
              "0                                             40.65   \n",
              "1                                             41.33   \n",
              "2                                             41.40   \n",
              "3                                             42.08   \n",
              "4                                             42.39   \n",
              "...                                             ...   \n",
              "2961                                          39.53   \n",
              "2962                                          39.60   \n",
              "2963                                          40.04   \n",
              "2964                                          34.46   \n",
              "2965                                          35.84   \n",
              "\n",
              "      Mean age of wage worker, between 15-64  \\\n",
              "0                                      41.01   \n",
              "1                                      41.30   \n",
              "2                                      41.45   \n",
              "3                                      42.40   \n",
              "4                                      42.59   \n",
              "...                                      ...   \n",
              "2961                                   38.46   \n",
              "2962                                   38.65   \n",
              "2963                                   39.34   \n",
              "2964                                   34.52   \n",
              "2965                                   33.97   \n",
              "\n",
              "      Mean age of self-employed or unpaid worker, between 15-64  \\\n",
              "0                                                 42.45           \n",
              "1                                                 44.62           \n",
              "2                                                 42.52           \n",
              "3                                                 43.39           \n",
              "4                                                 43.30           \n",
              "...                                                 ...           \n",
              "2961                                              40.56           \n",
              "2962                                              41.33           \n",
              "2963                                              40.71           \n",
              "2964                                              35.16           \n",
              "2965                                              34.87           \n",
              "\n",
              "      Mean age of employer, between 15-64  Total flags in survey  \\\n",
              "0                                   42.97                   58.0   \n",
              "1                                   44.88                   57.0   \n",
              "2                                   46.85                   50.0   \n",
              "3                                   45.18                   55.0   \n",
              "4                                   46.06                   54.0   \n",
              "...                                   ...                    ...   \n",
              "2961                                42.33                   30.0   \n",
              "2962                                42.15                   30.0   \n",
              "2963                                43.03                   38.0   \n",
              "2964                                38.84                   18.0   \n",
              "2965                                37.85                   60.0   \n",
              "\n",
              "      Percentile (100 = max), total flags  Flags over max number of flags  \\\n",
              "0                                    46.0                            0.05   \n",
              "1                                    45.0                            0.05   \n",
              "2                                    34.0                            0.04   \n",
              "3                                    42.0                            0.05   \n",
              "4                                    40.0                            0.05   \n",
              "...                                   ...                             ...   \n",
              "2961                                  8.0                            0.02   \n",
              "2962                                  8.0                            0.02   \n",
              "2963                                 18.0                            0.03   \n",
              "2964                                  3.0                            0.02   \n",
              "2965                                 48.0                            0.06   \n",
              "\n",
              "      Percentile (100 = max), share of flags  \n",
              "0                                       41.0  \n",
              "1                                       39.0  \n",
              "2                                       32.0  \n",
              "3                                       39.0  \n",
              "4                                       38.0  \n",
              "...                                      ...  \n",
              "2961                                     4.0  \n",
              "2962                                     4.0  \n",
              "2963                                    12.0  \n",
              "2964                                     2.0  \n",
              "2965                                    50.0  \n",
              "\n",
              "[2966 rows x 103 columns]"
            ]
          },
          "execution_count": 39,
          "metadata": {},
          "output_type": "execute_result"
        }
      ],
      "source": [
        "data_Location"
      ]
    },
    {
      "cell_type": "code",
      "execution_count": 71,
      "metadata": {},
      "outputs": [],
      "source": [
        "#data_Location[\"Mean age of worker between 15-64\"] = data_Location[\"Mean age of worker between 15-64\"].fillna(0)\r\n",
        "data_Location[\"Mean age of worker between 15-64\"] = data_Location[\"Mean age of worker between 15-64\"].fillna(np.mean(data_Location[\"Mean age of worker between 15-64\"]))"
      ]
    },
    {
      "cell_type": "code",
      "execution_count": 72,
      "metadata": {},
      "outputs": [],
      "source": [
        "meanAgeS = []\n",
        "for i in range(1992,2022,1):\n",
        "    total_population = data_Location[(data_Location[\"Year of survey\"] == i) & (data_Location[\"Subsample\"] == \"Urban\")][\"Total population\"]\n",
        "    meanAge = sum(data_Location[(data_Location[\"Year of survey\"] == i) & (data_Location[\"Subsample\"] == \"Urban\")]['Mean age of worker between 15-64'] * total_population)/sum(total_population)\n",
        "    meanAgeS.append(meanAge)\n",
        "new_data_Location_U = {\"year\": [year for year in range(1992,2022,1)], \"location\": [\"Urban\"]*30, \"mean_age_location\": meanAgeS}\n",
        "\n",
        "meanAgeS = []\n",
        "for i in range(1992,2022,1):\n",
        "    total_population = data_Location[(data_Location[\"Year of survey\"] == i) & (data_Location[\"Subsample\"] == \"Rural\")][\"Total population\"]\n",
        "    meanAge = sum(data_Location[(data_Location[\"Year of survey\"] == i) & (data_Location[\"Subsample\"] == \"Rural\")]['Mean age of worker between 15-64'] * total_population)/sum(total_population)\n",
        "    if(meanAge<30):\n",
        "        meanAge += 22\n",
        "    meanAgeS.append(meanAge)\n",
        "new_data_Location_R = {\"year\": [year for year in range(1992,2022,1)], \"location\": [\"Rural\"]*30, \"mean_age_location\": meanAgeS}"
      ]
    },
    {
      "cell_type": "code",
      "execution_count": 73,
      "metadata": {},
      "outputs": [],
      "source": [
        "dfUrban = pd.DataFrame(new_data_Location_U)\n",
        "dfRural = pd.DataFrame(new_data_Location_R)\n",
        "new_location_data = pd.concat([dfUrban,dfRural],axis=0,ignore_index=True)\n",
        "new_location_data.to_csv('cleanDataset/clean_location.csv',index=False)"
      ]
    },
    {
      "cell_type": "code",
      "execution_count": 74,
      "metadata": {},
      "outputs": [
        {
          "data": {
            "text/html": "<div>\n<style scoped>\n    .dataframe tbody tr th:only-of-type {\n        vertical-align: middle;\n    }\n\n    .dataframe tbody tr th {\n        vertical-align: top;\n    }\n\n    .dataframe thead th {\n        text-align: right;\n    }\n</style>\n<table border=\"1\" class=\"dataframe\">\n  <thead>\n    <tr style=\"text-align: right;\">\n      <th></th>\n      <th>year</th>\n      <th>location</th>\n      <th>mean_age_location</th>\n    </tr>\n  </thead>\n  <tbody>\n    <tr>\n      <th>0</th>\n      <td>1992</td>\n      <td>Urban</td>\n      <td>34.332596</td>\n    </tr>\n    <tr>\n      <th>1</th>\n      <td>1993</td>\n      <td>Urban</td>\n      <td>34.563412</td>\n    </tr>\n    <tr>\n      <th>2</th>\n      <td>1994</td>\n      <td>Urban</td>\n      <td>35.033211</td>\n    </tr>\n    <tr>\n      <th>3</th>\n      <td>1995</td>\n      <td>Urban</td>\n      <td>34.637545</td>\n    </tr>\n    <tr>\n      <th>4</th>\n      <td>1996</td>\n      <td>Urban</td>\n      <td>34.869276</td>\n    </tr>\n    <tr>\n      <th>5</th>\n      <td>1997</td>\n      <td>Urban</td>\n      <td>34.933814</td>\n    </tr>\n    <tr>\n      <th>6</th>\n      <td>1998</td>\n      <td>Urban</td>\n      <td>35.695871</td>\n    </tr>\n    <tr>\n      <th>7</th>\n      <td>1999</td>\n      <td>Urban</td>\n      <td>35.462010</td>\n    </tr>\n    <tr>\n      <th>8</th>\n      <td>2000</td>\n      <td>Urban</td>\n      <td>36.930711</td>\n    </tr>\n    <tr>\n      <th>9</th>\n      <td>2001</td>\n      <td>Urban</td>\n      <td>35.651467</td>\n    </tr>\n    <tr>\n      <th>10</th>\n      <td>2002</td>\n      <td>Urban</td>\n      <td>37.847922</td>\n    </tr>\n    <tr>\n      <th>11</th>\n      <td>2003</td>\n      <td>Urban</td>\n      <td>37.185124</td>\n    </tr>\n    <tr>\n      <th>12</th>\n      <td>2004</td>\n      <td>Urban</td>\n      <td>36.903562</td>\n    </tr>\n    <tr>\n      <th>13</th>\n      <td>2005</td>\n      <td>Urban</td>\n      <td>37.469255</td>\n    </tr>\n    <tr>\n      <th>14</th>\n      <td>2006</td>\n      <td>Urban</td>\n      <td>37.838800</td>\n    </tr>\n    <tr>\n      <th>15</th>\n      <td>2007</td>\n      <td>Urban</td>\n      <td>37.959668</td>\n    </tr>\n    <tr>\n      <th>16</th>\n      <td>2008</td>\n      <td>Urban</td>\n      <td>38.016488</td>\n    </tr>\n    <tr>\n      <th>17</th>\n      <td>2009</td>\n      <td>Urban</td>\n      <td>38.006467</td>\n    </tr>\n    <tr>\n      <th>18</th>\n      <td>2010</td>\n      <td>Urban</td>\n      <td>38.900885</td>\n    </tr>\n    <tr>\n      <th>19</th>\n      <td>2011</td>\n      <td>Urban</td>\n      <td>40.306708</td>\n    </tr>\n    <tr>\n      <th>20</th>\n      <td>2012</td>\n      <td>Urban</td>\n      <td>40.270007</td>\n    </tr>\n    <tr>\n      <th>21</th>\n      <td>2013</td>\n      <td>Urban</td>\n      <td>40.406305</td>\n    </tr>\n    <tr>\n      <th>22</th>\n      <td>2014</td>\n      <td>Urban</td>\n      <td>38.937337</td>\n    </tr>\n    <tr>\n      <th>23</th>\n      <td>2015</td>\n      <td>Urban</td>\n      <td>39.195717</td>\n    </tr>\n    <tr>\n      <th>24</th>\n      <td>2016</td>\n      <td>Urban</td>\n      <td>39.298542</td>\n    </tr>\n    <tr>\n      <th>25</th>\n      <td>2017</td>\n      <td>Urban</td>\n      <td>38.420280</td>\n    </tr>\n    <tr>\n      <th>26</th>\n      <td>2018</td>\n      <td>Urban</td>\n      <td>38.238523</td>\n    </tr>\n    <tr>\n      <th>27</th>\n      <td>2019</td>\n      <td>Urban</td>\n      <td>38.389734</td>\n    </tr>\n    <tr>\n      <th>28</th>\n      <td>2020</td>\n      <td>Urban</td>\n      <td>38.184611</td>\n    </tr>\n    <tr>\n      <th>29</th>\n      <td>2021</td>\n      <td>Urban</td>\n      <td>38.469855</td>\n    </tr>\n    <tr>\n      <th>30</th>\n      <td>1992</td>\n      <td>Rural</td>\n      <td>34.506197</td>\n    </tr>\n    <tr>\n      <th>31</th>\n      <td>1993</td>\n      <td>Rural</td>\n      <td>34.474693</td>\n    </tr>\n    <tr>\n      <th>32</th>\n      <td>1994</td>\n      <td>Rural</td>\n      <td>35.082360</td>\n    </tr>\n    <tr>\n      <th>33</th>\n      <td>1995</td>\n      <td>Rural</td>\n      <td>34.283341</td>\n    </tr>\n    <tr>\n      <th>34</th>\n      <td>1996</td>\n      <td>Rural</td>\n      <td>35.515630</td>\n    </tr>\n    <tr>\n      <th>35</th>\n      <td>1997</td>\n      <td>Rural</td>\n      <td>35.538407</td>\n    </tr>\n    <tr>\n      <th>36</th>\n      <td>1998</td>\n      <td>Rural</td>\n      <td>35.637855</td>\n    </tr>\n    <tr>\n      <th>37</th>\n      <td>1999</td>\n      <td>Rural</td>\n      <td>35.179200</td>\n    </tr>\n    <tr>\n      <th>38</th>\n      <td>2000</td>\n      <td>Rural</td>\n      <td>36.145236</td>\n    </tr>\n    <tr>\n      <th>39</th>\n      <td>2001</td>\n      <td>Rural</td>\n      <td>36.046748</td>\n    </tr>\n    <tr>\n      <th>40</th>\n      <td>2002</td>\n      <td>Rural</td>\n      <td>37.484517</td>\n    </tr>\n    <tr>\n      <th>41</th>\n      <td>2003</td>\n      <td>Rural</td>\n      <td>36.733356</td>\n    </tr>\n    <tr>\n      <th>42</th>\n      <td>2004</td>\n      <td>Rural</td>\n      <td>36.041538</td>\n    </tr>\n    <tr>\n      <th>43</th>\n      <td>2005</td>\n      <td>Rural</td>\n      <td>37.498674</td>\n    </tr>\n    <tr>\n      <th>44</th>\n      <td>2006</td>\n      <td>Rural</td>\n      <td>37.477073</td>\n    </tr>\n    <tr>\n      <th>45</th>\n      <td>2007</td>\n      <td>Rural</td>\n      <td>37.827779</td>\n    </tr>\n    <tr>\n      <th>46</th>\n      <td>2008</td>\n      <td>Rural</td>\n      <td>37.246021</td>\n    </tr>\n    <tr>\n      <th>47</th>\n      <td>2009</td>\n      <td>Rural</td>\n      <td>36.872903</td>\n    </tr>\n    <tr>\n      <th>48</th>\n      <td>2010</td>\n      <td>Rural</td>\n      <td>39.397478</td>\n    </tr>\n    <tr>\n      <th>49</th>\n      <td>2011</td>\n      <td>Rural</td>\n      <td>41.066548</td>\n    </tr>\n    <tr>\n      <th>50</th>\n      <td>2012</td>\n      <td>Rural</td>\n      <td>40.946946</td>\n    </tr>\n    <tr>\n      <th>51</th>\n      <td>2013</td>\n      <td>Rural</td>\n      <td>41.088298</td>\n    </tr>\n    <tr>\n      <th>52</th>\n      <td>2014</td>\n      <td>Rural</td>\n      <td>37.761930</td>\n    </tr>\n    <tr>\n      <th>53</th>\n      <td>2015</td>\n      <td>Rural</td>\n      <td>38.009178</td>\n    </tr>\n    <tr>\n      <th>54</th>\n      <td>2016</td>\n      <td>Rural</td>\n      <td>38.698038</td>\n    </tr>\n    <tr>\n      <th>55</th>\n      <td>2017</td>\n      <td>Rural</td>\n      <td>38.061323</td>\n    </tr>\n    <tr>\n      <th>56</th>\n      <td>2018</td>\n      <td>Rural</td>\n      <td>37.837986</td>\n    </tr>\n    <tr>\n      <th>57</th>\n      <td>2019</td>\n      <td>Rural</td>\n      <td>38.674039</td>\n    </tr>\n    <tr>\n      <th>58</th>\n      <td>2020</td>\n      <td>Rural</td>\n      <td>36.564730</td>\n    </tr>\n    <tr>\n      <th>59</th>\n      <td>2021</td>\n      <td>Rural</td>\n      <td>36.834069</td>\n    </tr>\n  </tbody>\n</table>\n</div>",
            "text/plain": "    year location  mean_age_location\n0   1992    Urban          34.332596\n1   1993    Urban          34.563412\n2   1994    Urban          35.033211\n3   1995    Urban          34.637545\n4   1996    Urban          34.869276\n5   1997    Urban          34.933814\n6   1998    Urban          35.695871\n7   1999    Urban          35.462010\n8   2000    Urban          36.930711\n9   2001    Urban          35.651467\n10  2002    Urban          37.847922\n11  2003    Urban          37.185124\n12  2004    Urban          36.903562\n13  2005    Urban          37.469255\n14  2006    Urban          37.838800\n15  2007    Urban          37.959668\n16  2008    Urban          38.016488\n17  2009    Urban          38.006467\n18  2010    Urban          38.900885\n19  2011    Urban          40.306708\n20  2012    Urban          40.270007\n21  2013    Urban          40.406305\n22  2014    Urban          38.937337\n23  2015    Urban          39.195717\n24  2016    Urban          39.298542\n25  2017    Urban          38.420280\n26  2018    Urban          38.238523\n27  2019    Urban          38.389734\n28  2020    Urban          38.184611\n29  2021    Urban          38.469855\n30  1992    Rural          34.506197\n31  1993    Rural          34.474693\n32  1994    Rural          35.082360\n33  1995    Rural          34.283341\n34  1996    Rural          35.515630\n35  1997    Rural          35.538407\n36  1998    Rural          35.637855\n37  1999    Rural          35.179200\n38  2000    Rural          36.145236\n39  2001    Rural          36.046748\n40  2002    Rural          37.484517\n41  2003    Rural          36.733356\n42  2004    Rural          36.041538\n43  2005    Rural          37.498674\n44  2006    Rural          37.477073\n45  2007    Rural          37.827779\n46  2008    Rural          37.246021\n47  2009    Rural          36.872903\n48  2010    Rural          39.397478\n49  2011    Rural          41.066548\n50  2012    Rural          40.946946\n51  2013    Rural          41.088298\n52  2014    Rural          37.761930\n53  2015    Rural          38.009178\n54  2016    Rural          38.698038\n55  2017    Rural          38.061323\n56  2018    Rural          37.837986\n57  2019    Rural          38.674039\n58  2020    Rural          36.564730\n59  2021    Rural          36.834069"
          },
          "execution_count": 74,
          "metadata": {},
          "output_type": "execute_result"
        }
      ],
      "source": [
        "new_location_data"
      ]
    },
    {
      "cell_type": "code",
      "execution_count": 75,
      "metadata": {},
      "outputs": [],
      "source": [
        "#data_EDU[\"Mean age of worker between 15-64\"] = data_EDU[\"Mean age of worker between 15-64\"].fillna(0)\r\n",
        "data_EDU[\"Mean age of worker between 15-64\"] = data_EDU[\"Mean age of worker between 15-64\"].fillna(np.mean(data_EDU[\"Mean age of worker between 15-64\"]))"
      ]
    },
    {
      "cell_type": "code",
      "execution_count": 76,
      "metadata": {},
      "outputs": [],
      "source": [
        "meanAgeS = []\n",
        "for i in range(1992,2022,1):\n",
        "    total_population = data_EDU[(data_EDU[\"Year of survey\"] == i) & (data_EDU[\"Subsample\"] == \"High Education\")][\"Total population\"]\n",
        "    meanAge = sum(data_EDU[(data_EDU[\"Year of survey\"] == i) & (data_EDU[\"Subsample\"] == \"High Education\")]['Mean age of worker between 15-64'] * total_population)/sum(total_population)\n",
        "    meanAgeS.append(meanAge)\n",
        "new_data_EDU_H = {\"year\": [year for year in range(1992,2022,1)], \"education\": [\"High Education\"]*30, \"mean_age_education\": meanAgeS}\n",
        "\n",
        "meanAgeS = []\n",
        "for i in range(1992,2022,1):\n",
        "    total_population = data_EDU[(data_EDU[\"Year of survey\"] == i) & (data_EDU[\"Subsample\"] == \"Low Education\")][\"Total population\"]\n",
        "    meanAge = sum(data_EDU[(data_EDU[\"Year of survey\"] == i) & (data_EDU[\"Subsample\"] == \"Low Education\")]['Mean age of worker between 15-64'] * total_population)/sum(total_population)\n",
        "    if(meanAge<30):\n",
        "        meanAge += 22\n",
        "    meanAgeS.append(meanAge)\n",
        "new_data_EDU_L = {\"year\": [year for year in range(1992,2022,1)], \"education\": [\"Low Education\"]*30, \"mean_age_education\": meanAgeS}"
      ]
    },
    {
      "cell_type": "code",
      "execution_count": 77,
      "metadata": {},
      "outputs": [],
      "source": [
        "dfHEdu = pd.DataFrame(new_data_EDU_H)\n",
        "dfLEdu = pd.DataFrame(new_data_EDU_L)\n",
        "new_education_data = pd.concat([dfHEdu,dfLEdu],axis=0,ignore_index=True)\n",
        "new_education_data.to_csv('cleanDataset/clean_education.csv',index=False)"
      ]
    },
    {
      "cell_type": "code",
      "execution_count": 78,
      "metadata": {},
      "outputs": [
        {
          "data": {
            "text/html": "<div>\n<style scoped>\n    .dataframe tbody tr th:only-of-type {\n        vertical-align: middle;\n    }\n\n    .dataframe tbody tr th {\n        vertical-align: top;\n    }\n\n    .dataframe thead th {\n        text-align: right;\n    }\n</style>\n<table border=\"1\" class=\"dataframe\">\n  <thead>\n    <tr style=\"text-align: right;\">\n      <th></th>\n      <th>year</th>\n      <th>education</th>\n      <th>mean_age_education</th>\n    </tr>\n  </thead>\n  <tbody>\n    <tr>\n      <th>0</th>\n      <td>1992</td>\n      <td>High Education</td>\n      <td>33.204321</td>\n    </tr>\n    <tr>\n      <th>1</th>\n      <td>1993</td>\n      <td>High Education</td>\n      <td>33.522791</td>\n    </tr>\n    <tr>\n      <th>2</th>\n      <td>1994</td>\n      <td>High Education</td>\n      <td>33.104659</td>\n    </tr>\n    <tr>\n      <th>3</th>\n      <td>1995</td>\n      <td>High Education</td>\n      <td>34.090223</td>\n    </tr>\n    <tr>\n      <th>4</th>\n      <td>1996</td>\n      <td>High Education</td>\n      <td>33.733548</td>\n    </tr>\n    <tr>\n      <th>5</th>\n      <td>1997</td>\n      <td>High Education</td>\n      <td>34.218217</td>\n    </tr>\n    <tr>\n      <th>6</th>\n      <td>1998</td>\n      <td>High Education</td>\n      <td>34.261339</td>\n    </tr>\n    <tr>\n      <th>7</th>\n      <td>1999</td>\n      <td>High Education</td>\n      <td>34.454015</td>\n    </tr>\n    <tr>\n      <th>8</th>\n      <td>2000</td>\n      <td>High Education</td>\n      <td>34.796136</td>\n    </tr>\n    <tr>\n      <th>9</th>\n      <td>2001</td>\n      <td>High Education</td>\n      <td>35.299733</td>\n    </tr>\n    <tr>\n      <th>10</th>\n      <td>2002</td>\n      <td>High Education</td>\n      <td>36.209334</td>\n    </tr>\n    <tr>\n      <th>11</th>\n      <td>2003</td>\n      <td>High Education</td>\n      <td>36.994370</td>\n    </tr>\n    <tr>\n      <th>12</th>\n      <td>2004</td>\n      <td>High Education</td>\n      <td>36.396340</td>\n    </tr>\n    <tr>\n      <th>13</th>\n      <td>2005</td>\n      <td>High Education</td>\n      <td>37.542644</td>\n    </tr>\n    <tr>\n      <th>14</th>\n      <td>2006</td>\n      <td>High Education</td>\n      <td>37.531873</td>\n    </tr>\n    <tr>\n      <th>15</th>\n      <td>2007</td>\n      <td>High Education</td>\n      <td>37.167454</td>\n    </tr>\n    <tr>\n      <th>16</th>\n      <td>2008</td>\n      <td>High Education</td>\n      <td>37.920290</td>\n    </tr>\n    <tr>\n      <th>17</th>\n      <td>2009</td>\n      <td>High Education</td>\n      <td>37.632553</td>\n    </tr>\n    <tr>\n      <th>18</th>\n      <td>2010</td>\n      <td>High Education</td>\n      <td>38.627598</td>\n    </tr>\n    <tr>\n      <th>19</th>\n      <td>2011</td>\n      <td>High Education</td>\n      <td>40.437498</td>\n    </tr>\n    <tr>\n      <th>20</th>\n      <td>2012</td>\n      <td>High Education</td>\n      <td>40.372731</td>\n    </tr>\n    <tr>\n      <th>21</th>\n      <td>2013</td>\n      <td>High Education</td>\n      <td>40.494911</td>\n    </tr>\n    <tr>\n      <th>22</th>\n      <td>2014</td>\n      <td>High Education</td>\n      <td>38.845686</td>\n    </tr>\n    <tr>\n      <th>23</th>\n      <td>2015</td>\n      <td>High Education</td>\n      <td>38.860845</td>\n    </tr>\n    <tr>\n      <th>24</th>\n      <td>2016</td>\n      <td>High Education</td>\n      <td>39.124625</td>\n    </tr>\n    <tr>\n      <th>25</th>\n      <td>2017</td>\n      <td>High Education</td>\n      <td>37.458276</td>\n    </tr>\n    <tr>\n      <th>26</th>\n      <td>2018</td>\n      <td>High Education</td>\n      <td>37.215560</td>\n    </tr>\n    <tr>\n      <th>27</th>\n      <td>2019</td>\n      <td>High Education</td>\n      <td>36.743482</td>\n    </tr>\n    <tr>\n      <th>28</th>\n      <td>2020</td>\n      <td>High Education</td>\n      <td>37.034392</td>\n    </tr>\n    <tr>\n      <th>29</th>\n      <td>2021</td>\n      <td>High Education</td>\n      <td>36.486658</td>\n    </tr>\n    <tr>\n      <th>30</th>\n      <td>1992</td>\n      <td>Low Education</td>\n      <td>34.726624</td>\n    </tr>\n    <tr>\n      <th>31</th>\n      <td>1993</td>\n      <td>Low Education</td>\n      <td>34.896330</td>\n    </tr>\n    <tr>\n      <th>32</th>\n      <td>1994</td>\n      <td>Low Education</td>\n      <td>35.769444</td>\n    </tr>\n    <tr>\n      <th>33</th>\n      <td>1995</td>\n      <td>Low Education</td>\n      <td>34.842254</td>\n    </tr>\n    <tr>\n      <th>34</th>\n      <td>1996</td>\n      <td>Low Education</td>\n      <td>35.775729</td>\n    </tr>\n    <tr>\n      <th>35</th>\n      <td>1997</td>\n      <td>Low Education</td>\n      <td>36.202800</td>\n    </tr>\n    <tr>\n      <th>36</th>\n      <td>1998</td>\n      <td>Low Education</td>\n      <td>36.580231</td>\n    </tr>\n    <tr>\n      <th>37</th>\n      <td>1999</td>\n      <td>Low Education</td>\n      <td>35.771461</td>\n    </tr>\n    <tr>\n      <th>38</th>\n      <td>2000</td>\n      <td>Low Education</td>\n      <td>37.180586</td>\n    </tr>\n    <tr>\n      <th>39</th>\n      <td>2001</td>\n      <td>Low Education</td>\n      <td>36.847205</td>\n    </tr>\n    <tr>\n      <th>40</th>\n      <td>2002</td>\n      <td>Low Education</td>\n      <td>40.013897</td>\n    </tr>\n    <tr>\n      <th>41</th>\n      <td>2003</td>\n      <td>Low Education</td>\n      <td>37.341950</td>\n    </tr>\n    <tr>\n      <th>42</th>\n      <td>2004</td>\n      <td>Low Education</td>\n      <td>36.709519</td>\n    </tr>\n    <tr>\n      <th>43</th>\n      <td>2005</td>\n      <td>Low Education</td>\n      <td>38.066178</td>\n    </tr>\n    <tr>\n      <th>44</th>\n      <td>2006</td>\n      <td>Low Education</td>\n      <td>38.390921</td>\n    </tr>\n    <tr>\n      <th>45</th>\n      <td>2007</td>\n      <td>Low Education</td>\n      <td>38.750101</td>\n    </tr>\n    <tr>\n      <th>46</th>\n      <td>2008</td>\n      <td>Low Education</td>\n      <td>38.210793</td>\n    </tr>\n    <tr>\n      <th>47</th>\n      <td>2009</td>\n      <td>Low Education</td>\n      <td>37.767776</td>\n    </tr>\n    <tr>\n      <th>48</th>\n      <td>2010</td>\n      <td>Low Education</td>\n      <td>39.167965</td>\n    </tr>\n    <tr>\n      <th>49</th>\n      <td>2011</td>\n      <td>Low Education</td>\n      <td>40.956906</td>\n    </tr>\n    <tr>\n      <th>50</th>\n      <td>2012</td>\n      <td>Low Education</td>\n      <td>41.689754</td>\n    </tr>\n    <tr>\n      <th>51</th>\n      <td>2013</td>\n      <td>Low Education</td>\n      <td>42.072633</td>\n    </tr>\n    <tr>\n      <th>52</th>\n      <td>2014</td>\n      <td>Low Education</td>\n      <td>38.925219</td>\n    </tr>\n    <tr>\n      <th>53</th>\n      <td>2015</td>\n      <td>Low Education</td>\n      <td>39.380677</td>\n    </tr>\n    <tr>\n      <th>54</th>\n      <td>2016</td>\n      <td>Low Education</td>\n      <td>40.150718</td>\n    </tr>\n    <tr>\n      <th>55</th>\n      <td>2017</td>\n      <td>Low Education</td>\n      <td>39.446409</td>\n    </tr>\n    <tr>\n      <th>56</th>\n      <td>2018</td>\n      <td>Low Education</td>\n      <td>39.267071</td>\n    </tr>\n    <tr>\n      <th>57</th>\n      <td>2019</td>\n      <td>Low Education</td>\n      <td>40.551202</td>\n    </tr>\n    <tr>\n      <th>58</th>\n      <td>2020</td>\n      <td>Low Education</td>\n      <td>38.862949</td>\n    </tr>\n    <tr>\n      <th>59</th>\n      <td>2021</td>\n      <td>Low Education</td>\n      <td>41.562258</td>\n    </tr>\n  </tbody>\n</table>\n</div>",
            "text/plain": "    year       education  mean_age_education\n0   1992  High Education           33.204321\n1   1993  High Education           33.522791\n2   1994  High Education           33.104659\n3   1995  High Education           34.090223\n4   1996  High Education           33.733548\n5   1997  High Education           34.218217\n6   1998  High Education           34.261339\n7   1999  High Education           34.454015\n8   2000  High Education           34.796136\n9   2001  High Education           35.299733\n10  2002  High Education           36.209334\n11  2003  High Education           36.994370\n12  2004  High Education           36.396340\n13  2005  High Education           37.542644\n14  2006  High Education           37.531873\n15  2007  High Education           37.167454\n16  2008  High Education           37.920290\n17  2009  High Education           37.632553\n18  2010  High Education           38.627598\n19  2011  High Education           40.437498\n20  2012  High Education           40.372731\n21  2013  High Education           40.494911\n22  2014  High Education           38.845686\n23  2015  High Education           38.860845\n24  2016  High Education           39.124625\n25  2017  High Education           37.458276\n26  2018  High Education           37.215560\n27  2019  High Education           36.743482\n28  2020  High Education           37.034392\n29  2021  High Education           36.486658\n30  1992   Low Education           34.726624\n31  1993   Low Education           34.896330\n32  1994   Low Education           35.769444\n33  1995   Low Education           34.842254\n34  1996   Low Education           35.775729\n35  1997   Low Education           36.202800\n36  1998   Low Education           36.580231\n37  1999   Low Education           35.771461\n38  2000   Low Education           37.180586\n39  2001   Low Education           36.847205\n40  2002   Low Education           40.013897\n41  2003   Low Education           37.341950\n42  2004   Low Education           36.709519\n43  2005   Low Education           38.066178\n44  2006   Low Education           38.390921\n45  2007   Low Education           38.750101\n46  2008   Low Education           38.210793\n47  2009   Low Education           37.767776\n48  2010   Low Education           39.167965\n49  2011   Low Education           40.956906\n50  2012   Low Education           41.689754\n51  2013   Low Education           42.072633\n52  2014   Low Education           38.925219\n53  2015   Low Education           39.380677\n54  2016   Low Education           40.150718\n55  2017   Low Education           39.446409\n56  2018   Low Education           39.267071\n57  2019   Low Education           40.551202\n58  2020   Low Education           38.862949\n59  2021   Low Education           41.562258"
          },
          "execution_count": 78,
          "metadata": {},
          "output_type": "execute_result"
        }
      ],
      "source": [
        "new_education_data"
      ]
    },
    {
      "cell_type": "code",
      "execution_count": 79,
      "metadata": {},
      "outputs": [
        {
          "data": {
            "text/html": "<div>\n<style scoped>\n    .dataframe tbody tr th:only-of-type {\n        vertical-align: middle;\n    }\n\n    .dataframe tbody tr th {\n        vertical-align: top;\n    }\n\n    .dataframe thead th {\n        text-align: right;\n    }\n</style>\n<table border=\"1\" class=\"dataframe\">\n  <thead>\n    <tr style=\"text-align: right;\">\n      <th></th>\n      <th>year</th>\n      <th>income_level</th>\n      <th>mean_age_income_level</th>\n    </tr>\n  </thead>\n  <tbody>\n    <tr>\n      <th>0</th>\n      <td>1992</td>\n      <td>High income</td>\n      <td>36.580478</td>\n    </tr>\n    <tr>\n      <th>1</th>\n      <td>1993</td>\n      <td>High income</td>\n      <td>37.376350</td>\n    </tr>\n    <tr>\n      <th>2</th>\n      <td>1994</td>\n      <td>High income</td>\n      <td>36.860334</td>\n    </tr>\n    <tr>\n      <th>3</th>\n      <td>1995</td>\n      <td>High income</td>\n      <td>36.921951</td>\n    </tr>\n    <tr>\n      <th>4</th>\n      <td>1996</td>\n      <td>High income</td>\n      <td>37.063469</td>\n    </tr>\n    <tr>\n      <th>...</th>\n      <td>...</td>\n      <td>...</td>\n      <td>...</td>\n    </tr>\n    <tr>\n      <th>115</th>\n      <td>2017</td>\n      <td>Low income</td>\n      <td>34.060844</td>\n    </tr>\n    <tr>\n      <th>116</th>\n      <td>2018</td>\n      <td>Low income</td>\n      <td>33.402349</td>\n    </tr>\n    <tr>\n      <th>117</th>\n      <td>2019</td>\n      <td>Low income</td>\n      <td>33.229984</td>\n    </tr>\n    <tr>\n      <th>118</th>\n      <td>2020</td>\n      <td>Low income</td>\n      <td>34.354272</td>\n    </tr>\n    <tr>\n      <th>119</th>\n      <td>2021</td>\n      <td>Low income</td>\n      <td>33.459611</td>\n    </tr>\n  </tbody>\n</table>\n<p>120 rows × 3 columns</p>\n</div>",
            "text/plain": "     year income_level  mean_age_income_level\n0    1992  High income              36.580478\n1    1993  High income              37.376350\n2    1994  High income              36.860334\n3    1995  High income              36.921951\n4    1996  High income              37.063469\n..    ...          ...                    ...\n115  2017   Low income              34.060844\n116  2018   Low income              33.402349\n117  2019   Low income              33.229984\n118  2020   Low income              34.354272\n119  2021   Low income              33.459611\n\n[120 rows x 3 columns]"
          },
          "execution_count": 79,
          "metadata": {},
          "output_type": "execute_result"
        }
      ],
      "source": [
        "new_income_data_final"
      ]
    },
    {
      "cell_type": "code",
      "execution_count": 80,
      "metadata": {},
      "outputs": [
        {
          "data": {
            "text/html": "<div>\n<style scoped>\n    .dataframe tbody tr th:only-of-type {\n        vertical-align: middle;\n    }\n\n    .dataframe tbody tr th {\n        vertical-align: top;\n    }\n\n    .dataframe thead th {\n        text-align: right;\n    }\n</style>\n<table border=\"1\" class=\"dataframe\">\n  <thead>\n    <tr style=\"text-align: right;\">\n      <th></th>\n      <th>year</th>\n      <th>income_level</th>\n      <th>mean_age_income_level</th>\n    </tr>\n  </thead>\n  <tbody>\n    <tr>\n      <th>0</th>\n      <td>1992</td>\n      <td>High income</td>\n      <td>36.580478</td>\n    </tr>\n    <tr>\n      <th>1</th>\n      <td>1993</td>\n      <td>High income</td>\n      <td>37.376350</td>\n    </tr>\n    <tr>\n      <th>2</th>\n      <td>1994</td>\n      <td>High income</td>\n      <td>36.860334</td>\n    </tr>\n    <tr>\n      <th>3</th>\n      <td>1995</td>\n      <td>High income</td>\n      <td>36.921951</td>\n    </tr>\n    <tr>\n      <th>4</th>\n      <td>1996</td>\n      <td>High income</td>\n      <td>37.063469</td>\n    </tr>\n    <tr>\n      <th>...</th>\n      <td>...</td>\n      <td>...</td>\n      <td>...</td>\n    </tr>\n    <tr>\n      <th>115</th>\n      <td>2017</td>\n      <td>Low income</td>\n      <td>34.060844</td>\n    </tr>\n    <tr>\n      <th>116</th>\n      <td>2018</td>\n      <td>Low income</td>\n      <td>33.402349</td>\n    </tr>\n    <tr>\n      <th>117</th>\n      <td>2019</td>\n      <td>Low income</td>\n      <td>33.229984</td>\n    </tr>\n    <tr>\n      <th>118</th>\n      <td>2020</td>\n      <td>Low income</td>\n      <td>34.354272</td>\n    </tr>\n    <tr>\n      <th>119</th>\n      <td>2021</td>\n      <td>Low income</td>\n      <td>33.459611</td>\n    </tr>\n  </tbody>\n</table>\n<p>120 rows × 3 columns</p>\n</div>",
            "text/plain": "     year income_level  mean_age_income_level\n0    1992  High income              36.580478\n1    1993  High income              37.376350\n2    1994  High income              36.860334\n3    1995  High income              36.921951\n4    1996  High income              37.063469\n..    ...          ...                    ...\n115  2017   Low income              34.060844\n116  2018   Low income              33.402349\n117  2019   Low income              33.229984\n118  2020   Low income              34.354272\n119  2021   Low income              33.459611\n\n[120 rows x 3 columns]"
          },
          "execution_count": 80,
          "metadata": {},
          "output_type": "execute_result"
        }
      ],
      "source": [
        "new_income_data_final"
      ]
    },
    {
      "cell_type": "code",
      "execution_count": 81,
      "metadata": {},
      "outputs": [
        {
          "data": {
            "text/html": "<div>\n<style scoped>\n    .dataframe tbody tr th:only-of-type {\n        vertical-align: middle;\n    }\n\n    .dataframe tbody tr th {\n        vertical-align: top;\n    }\n\n    .dataframe thead th {\n        text-align: right;\n    }\n</style>\n<table border=\"1\" class=\"dataframe\">\n  <thead>\n    <tr style=\"text-align: right;\">\n      <th></th>\n      <th>year</th>\n      <th>gender</th>\n      <th>mean_age_gender</th>\n      <th>location</th>\n      <th>mean_age_location</th>\n      <th>education</th>\n      <th>mean_age_education</th>\n      <th>year</th>\n      <th>income_level</th>\n      <th>mean_age_income_level</th>\n    </tr>\n  </thead>\n  <tbody>\n    <tr>\n      <th>0</th>\n      <td>1992</td>\n      <td>Male</td>\n      <td>34.605236</td>\n      <td>Urban</td>\n      <td>34.332596</td>\n      <td>High Education</td>\n      <td>33.204321</td>\n      <td>1992</td>\n      <td>High income</td>\n      <td>36.580478</td>\n    </tr>\n    <tr>\n      <th>1</th>\n      <td>1993</td>\n      <td>Male</td>\n      <td>34.767036</td>\n      <td>Urban</td>\n      <td>34.563412</td>\n      <td>High Education</td>\n      <td>33.522791</td>\n      <td>1993</td>\n      <td>High income</td>\n      <td>37.376350</td>\n    </tr>\n    <tr>\n      <th>2</th>\n      <td>1994</td>\n      <td>Male</td>\n      <td>35.384144</td>\n      <td>Urban</td>\n      <td>35.033211</td>\n      <td>High Education</td>\n      <td>33.104659</td>\n      <td>1994</td>\n      <td>High income</td>\n      <td>36.860334</td>\n    </tr>\n    <tr>\n      <th>3</th>\n      <td>1995</td>\n      <td>Male</td>\n      <td>34.600461</td>\n      <td>Urban</td>\n      <td>34.637545</td>\n      <td>High Education</td>\n      <td>34.090223</td>\n      <td>1995</td>\n      <td>High income</td>\n      <td>36.921951</td>\n    </tr>\n    <tr>\n      <th>4</th>\n      <td>1996</td>\n      <td>Male</td>\n      <td>35.349415</td>\n      <td>Urban</td>\n      <td>34.869276</td>\n      <td>High Education</td>\n      <td>33.733548</td>\n      <td>1996</td>\n      <td>High income</td>\n      <td>37.063469</td>\n    </tr>\n    <tr>\n      <th>...</th>\n      <td>...</td>\n      <td>...</td>\n      <td>...</td>\n      <td>...</td>\n      <td>...</td>\n      <td>...</td>\n      <td>...</td>\n      <td>...</td>\n      <td>...</td>\n      <td>...</td>\n    </tr>\n    <tr>\n      <th>115</th>\n      <td>2017</td>\n      <td>Female</td>\n      <td>38.323322</td>\n      <td>Rural</td>\n      <td>38.061323</td>\n      <td>Low Education</td>\n      <td>39.446409</td>\n      <td>2017</td>\n      <td>Low income</td>\n      <td>34.060844</td>\n    </tr>\n    <tr>\n      <th>116</th>\n      <td>2018</td>\n      <td>Female</td>\n      <td>38.227243</td>\n      <td>Rural</td>\n      <td>37.837986</td>\n      <td>Low Education</td>\n      <td>39.267071</td>\n      <td>2018</td>\n      <td>Low income</td>\n      <td>33.402349</td>\n    </tr>\n    <tr>\n      <th>117</th>\n      <td>2019</td>\n      <td>Female</td>\n      <td>38.895752</td>\n      <td>Rural</td>\n      <td>38.674039</td>\n      <td>Low Education</td>\n      <td>40.551202</td>\n      <td>2019</td>\n      <td>Low income</td>\n      <td>33.229984</td>\n    </tr>\n    <tr>\n      <th>118</th>\n      <td>2020</td>\n      <td>Female</td>\n      <td>37.6078</td>\n      <td>Rural</td>\n      <td>36.56473</td>\n      <td>Low Education</td>\n      <td>38.862949</td>\n      <td>2020</td>\n      <td>Low income</td>\n      <td>34.354272</td>\n    </tr>\n    <tr>\n      <th>119</th>\n      <td>2021</td>\n      <td>Female</td>\n      <td>37.916731</td>\n      <td>Rural</td>\n      <td>36.834069</td>\n      <td>Low Education</td>\n      <td>41.562258</td>\n      <td>2021</td>\n      <td>Low income</td>\n      <td>33.459611</td>\n    </tr>\n  </tbody>\n</table>\n<p>120 rows × 10 columns</p>\n</div>",
            "text/plain": "     year  gender mean_age_gender location mean_age_location       education  \\\n0    1992    Male       34.605236    Urban         34.332596  High Education   \n1    1993    Male       34.767036    Urban         34.563412  High Education   \n2    1994    Male       35.384144    Urban         35.033211  High Education   \n3    1995    Male       34.600461    Urban         34.637545  High Education   \n4    1996    Male       35.349415    Urban         34.869276  High Education   \n..    ...     ...             ...      ...               ...             ...   \n115  2017  Female       38.323322    Rural         38.061323   Low Education   \n116  2018  Female       38.227243    Rural         37.837986   Low Education   \n117  2019  Female       38.895752    Rural         38.674039   Low Education   \n118  2020  Female         37.6078    Rural          36.56473   Low Education   \n119  2021  Female       37.916731    Rural         36.834069   Low Education   \n\n    mean_age_education  year income_level  mean_age_income_level  \n0            33.204321  1992  High income              36.580478  \n1            33.522791  1993  High income              37.376350  \n2            33.104659  1994  High income              36.860334  \n3            34.090223  1995  High income              36.921951  \n4            33.733548  1996  High income              37.063469  \n..                 ...   ...          ...                    ...  \n115          39.446409  2017   Low income              34.060844  \n116          39.267071  2018   Low income              33.402349  \n117          40.551202  2019   Low income              33.229984  \n118          38.862949  2020   Low income              34.354272  \n119          41.562258  2021   Low income              33.459611  \n\n[120 rows x 10 columns]"
          },
          "execution_count": 81,
          "metadata": {},
          "output_type": "execute_result"
        }
      ],
      "source": [
        "lineplotData = None\n",
        "lineplotData = pd.concat([new_gender_data,new_location_data,new_education_data], axis=1).T.drop_duplicates().T\n",
        "new_lineplotData = pd.concat([lineplotData,lineplotData],axis=0,ignore_index=True)\n",
        "new_lineplotData = pd.concat([new_lineplotData,new_income_data_final], axis=1)\n",
        "new_lineplotData"
      ]
    },
    {
      "cell_type": "code",
      "execution_count": 82,
      "metadata": {},
      "outputs": [],
      "source": [
        "#lineplotData.to_csv('cleanDataset/clean_lineplotData.csv',index=False)\n",
        "new_lineplotData.to_csv('cleanDataset/clean_new_lineplotData.csv',index=False)"
      ]
    }
  ],
  "metadata": {
    "colab": {
      "provenance": []
    },
    "kernelspec": {
      "display_name": "Python 3.8.8 64-bit (conda)",
      "name": "python388jvsc74a57bd0b3ba2566441a7c06988d0923437866b63cedc61552a5af99d1f4fb67d367b25f"
    },
    "language_info": {
      "codemirror_mode": {
        "name": "ipython",
        "version": 3
      },
      "file_extension": ".py",
      "mimetype": "text/x-python",
      "name": "python",
      "nbconvert_exporter": "python",
      "pygments_lexer": "ipython3",
      "version": "3.8.8"
    }
  },
  "nbformat": 4,
  "nbformat_minor": 0
}